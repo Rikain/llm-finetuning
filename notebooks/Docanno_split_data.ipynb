{
 "cells": [
  {
   "cell_type": "code",
   "execution_count": 1,
   "id": "39319e45-3425-4d32-b7c3-9a316ebe568e",
   "metadata": {},
   "outputs": [],
   "source": [
    "import pandas as pd\n",
    "from pathlib import Path"
   ]
  },
  {
   "cell_type": "code",
   "execution_count": 2,
   "id": "db564029-ae3e-4f0a-93dd-6d79be1b01cc",
   "metadata": {},
   "outputs": [],
   "source": [
    "data_dir = Path(\"../data/docanno\")\n",
    "full_dataset_path = data_dir / \"docanno.csv\"\n",
    "train_path = data_dir / \"train.csv\"\n",
    "val_path = data_dir / \"val.csv\"\n",
    "test_path = data_dir / \"test.csv\""
   ]
  },
  {
   "cell_type": "code",
   "execution_count": 3,
   "id": "94441927-514b-4888-a44f-f66952207704",
   "metadata": {},
   "outputs": [
    {
     "data": {
      "text/plain": [
       "((176448, 27),\n",
       " Index(['text_id', 'user_id', 'inspiring', 'interesting',\n",
       "        'offensive_to_someone', 'negative', 'offensive_to_me', 'political',\n",
       "        'positive', 'sadness', 'calm', 'fear', 'compassion', 'disgust',\n",
       "        'vulgar', 'surprise', 'embarrasing', 'anger', 'understandable',\n",
       "        'ironic', 'need_more_information', 'happiness', 'delight',\n",
       "        'funny_to_someone', 'funny_to_me', 'fold', 'text'],\n",
       "       dtype='object'),\n",
       " Index(['text_id', 'user_id', 'inspiring', 'interesting',\n",
       "        'offensive_to_someone', 'negative', 'offensive_to_me', 'political',\n",
       "        'positive', 'sadness', 'calm', 'fear', 'compassion', 'disgust',\n",
       "        'vulgar', 'surprise', 'embarrasing', 'anger', 'understandable',\n",
       "        'ironic', 'need_more_information', 'happiness', 'delight',\n",
       "        'funny_to_someone', 'funny_to_me', 'fold', 'text'],\n",
       "       dtype='object'))"
      ]
     },
     "execution_count": 3,
     "metadata": {},
     "output_type": "execute_result"
    }
   ],
   "source": [
    "full_df = pd.read_csv(full_dataset_path)\n",
    "train_or_df = pd.read_csv(train_path)\n",
    "val_or_df = pd.read_csv(val_path)\n",
    "test_or_df = pd.read_csv(test_path)\n",
    "full_df.shape, full_df.columns, train_or_df.columns"
   ]
  },
  {
   "cell_type": "code",
   "execution_count": 4,
   "id": "68acb668-f47a-4290-a906-18e97ebb1e35",
   "metadata": {},
   "outputs": [
    {
     "data": {
      "text/plain": [
       "(127856, 15849, 16306, 160011)"
      ]
     },
     "execution_count": 4,
     "metadata": {},
     "output_type": "execute_result"
    }
   ],
   "source": [
    "train_or_df.shape[0], val_or_df.shape[0], test_or_df.shape[0], train_or_df.shape[0] + val_or_df.shape[0] + test_or_df.shape[0]"
   ]
  },
  {
   "cell_type": "code",
   "execution_count": null,
   "id": "ff362fe0-708a-4c21-b7ea-43dcdab97f6e",
   "metadata": {},
   "outputs": [],
   "source": []
  },
  {
   "cell_type": "code",
   "execution_count": 5,
   "id": "7d138241-ce5c-4e92-87be-07c72986fa08",
   "metadata": {},
   "outputs": [
    {
     "data": {
      "text/plain": [
       "(39737, 27)"
      ]
     },
     "execution_count": 5,
     "metadata": {},
     "output_type": "execute_result"
    }
   ],
   "source": [
    "full_df.drop_duplicates(subset=[\"text_id\"]).shape"
   ]
  },
  {
   "cell_type": "code",
   "execution_count": 6,
   "id": "1f76b28a-18fe-47ea-aa97-1e9adcd08679",
   "metadata": {},
   "outputs": [
    {
     "name": "stdout",
     "output_type": "stream",
     "text": [
      "29350 373 8989\n",
      "38712\n",
      "38712\n",
      "38712\n",
      "38712\n",
      "38712\n"
     ]
    }
   ],
   "source": [
    "datasets = [train_or_df, val_or_df, test_or_df]\n",
    "t1 = datasets[0].drop_duplicates(subset=[\"text_id\"])\n",
    "v1 = datasets[1].drop_duplicates(subset=[\"text_id\"])\n",
    "d1 = datasets[2].drop_duplicates(subset=[\"text_id\"])\n",
    "print(t1.shape[0], v1.shape[0], d1.shape[0])\n",
    "print(t1.shape[0] + v1.shape[0] + d1.shape[0])\n",
    "f = pd.concat([t1, v1, d1], axis=0)\n",
    "print(f.shape[0])\n",
    "print(f.drop_duplicates(subset=[\"text_id\"]).shape[0])\n",
    "d2 = d1[~d1[\"text_id\"].isin(t1[\"text_id\"])]\n",
    "v2 = v1[(~v1[\"text_id\"].isin(t1[\"text_id\"]))] # & (~v1[\"text_id\"].isin(d2[\"text_id\"]))]\n",
    "f2 = pd.concat([t1, v2, d2], axis=0)\n",
    "print(f2.shape[0])\n",
    "print(f2.drop_duplicates(subset=[\"text_id\"]).shape[0])"
   ]
  },
  {
   "cell_type": "code",
   "execution_count": 7,
   "id": "f67ba403-0aab-4830-bcde-addb8d880ef2",
   "metadata": {},
   "outputs": [],
   "source": [
    "def transform_and_clean_empty_annotations(df):\n",
    "    \n",
    "    label_columns = sorted([\n",
    "        'inspiring', 'interesting',\n",
    "        'offensive_to_someone', 'negative', 'offensive_to_me', 'political',\n",
    "        'positive', 'sadness', 'calm', 'fear', 'compassion', 'disgust',\n",
    "        'vulgar', 'surprise', 'embarrasing', 'anger', 'understandable',\n",
    "        'ironic', 'need_more_information', 'happiness', 'delight',\n",
    "        'funny_to_someone', 'funny_to_me'\n",
    "    ])\n",
    "\n",
    "    df[label_columns] = df[label_columns].replace(-1, 0).replace(list(range(1,11)), 1)\n",
    "    \n",
    "    def is_empty(sample):\n",
    "        sum_ = sum([sample[label] for label in label_columns])\n",
    "        empty = False\n",
    "        if sum_ == 0:\n",
    "            empty = True\n",
    "        return empty\n",
    "\n",
    "    df[\"empty\"] = df.apply(is_empty, axis=1)\n",
    "    df = df[~df[\"empty\"]]\n",
    "    return df.drop(columns=[\"empty\"])\n",
    "    "
   ]
  },
  {
   "cell_type": "code",
   "execution_count": 8,
   "id": "7d968bbc-9ff8-46a7-a5a1-e75ec5bcc1bc",
   "metadata": {},
   "outputs": [
    {
     "data": {
      "text/plain": [
       "((168236, 27),\n",
       " (176448, 28),\n",
       "    text_id  user_id  inspiring  interesting  offensive_to_someone  negative  \\\n",
       " 0        0        0          1            1                     1         1   \n",
       " 1        0        1          1            1                     1         1   \n",
       " 2        0        2          1            1                     1         1   \n",
       " 3        0        3          1            1                     1         1   \n",
       " 4        0        4          1            1                     1         1   \n",
       " \n",
       "    offensive_to_me  political  positive  sadness  ...  understandable  ironic  \\\n",
       " 0                1          1         1        1  ...               1       0   \n",
       " 1                1          1         1        1  ...               1       1   \n",
       " 2                1          1         1        1  ...               1       1   \n",
       " 3                1          1         1        1  ...               1       1   \n",
       " 4                1          1         1        1  ...               1       0   \n",
       " \n",
       "    need_more_information  happiness  delight  funny_to_someone  funny_to_me  \\\n",
       " 0                      0          0        0                 0            0   \n",
       " 1                      1          0        0                 0            0   \n",
       " 2                      1          0        0                 0            0   \n",
       " 3                      1          0        0                 0            0   \n",
       " 4                      1          0        0                 0            0   \n",
       " \n",
       "    fold                                               text  empty  \n",
       " 0     0  No kurczę niby taka wyluzowana i cool, wygadan...  False  \n",
       " 1     0  No kurczę niby taka wyluzowana i cool, wygadan...  False  \n",
       " 2     0  No kurczę niby taka wyluzowana i cool, wygadan...  False  \n",
       " 3     0  No kurczę niby taka wyluzowana i cool, wygadan...  False  \n",
       " 4     0  No kurczę niby taka wyluzowana i cool, wygadan...  False  \n",
       " \n",
       " [5 rows x 28 columns])"
      ]
     },
     "execution_count": 8,
     "metadata": {},
     "output_type": "execute_result"
    }
   ],
   "source": [
    "full_df_cleaned = transform_and_clean_empty_annotations(full_df)\n",
    "full_df_cleaned.shape, full_df.shape, full_df.head()"
   ]
  },
  {
   "cell_type": "code",
   "execution_count": 9,
   "id": "5b136a53-c4ed-4b5e-a46f-86c5f9aa6e0d",
   "metadata": {},
   "outputs": [
    {
     "data": {
      "text/plain": [
       "((134772, 27), (17158, 27), (16306, 27))"
      ]
     },
     "execution_count": 9,
     "metadata": {},
     "output_type": "execute_result"
    }
   ],
   "source": [
    "train_texts = t1[\"text_id\"]\n",
    "test_texts = d2[\"text_id\"]\n",
    "val_texts = v2[\"text_id\"]\n",
    "new_train = full_df_cleaned[full_df_cleaned[\"text_id\"].isin(train_texts)]\n",
    "new_test = full_df_cleaned[full_df_cleaned[\"text_id\"].isin(test_texts)]\n",
    "new_val = full_df_cleaned[full_df_cleaned[\"text_id\"].isin(val_texts)]\n",
    "\n",
    "new_train.shape, new_val.shape, new_test.shape"
   ]
  },
  {
   "cell_type": "code",
   "execution_count": 10,
   "id": "2dea601f-7606-4201-81e4-be9526a6aa0c",
   "metadata": {},
   "outputs": [],
   "source": [
    "def check_users(train, test, dev):\n",
    "    train_users = train[\"user_id\"].unique()\n",
    "    dev_users = dev[\"user_id\"].unique()\n",
    "    test_users = test[\"user_id\"].unique()\n",
    "    print(\"sizes -\", \"train:\", train_users.shape, \"val:\", dev_users.shape, \"test:\", test_users.shape)\n",
    "    train_dev = (len(set(train_users) - set(dev_users)), len(set(dev_users) - set(train_users)))\n",
    "    train_test = (len(set(train_users) - set(test_users)), len(set(test_users) - set(train_users)))\n",
    "    test_dev = (len(set(test_users) - set(dev_users)), len(set(dev_users) - set(test_users)))\n",
    "    print(train_dev, train_test, test_dev)\n",
    "    print(set(train_users) - set(test_users))"
   ]
  },
  {
   "cell_type": "code",
   "execution_count": 11,
   "id": "955e8b02-2b90-4d39-a8f8-5bab784c322e",
   "metadata": {},
   "outputs": [
    {
     "name": "stdout",
     "output_type": "stream",
     "text": [
      "sizes - train: (60,) val: (60,) test: (53,)\n",
      "(0, 0) (7, 0) (0, 7)\n",
      "{37, 40, 19, 20, 52, 55, 27}\n"
     ]
    }
   ],
   "source": [
    "check_users(new_train, new_test, new_val)"
   ]
  },
  {
   "cell_type": "code",
   "execution_count": 12,
   "id": "7dbe2cd2-a3b8-4219-beb4-97a9eccaea12",
   "metadata": {},
   "outputs": [],
   "source": [
    "def clean_users(new_train, new_val, new_test):\n",
    "    in_test = new_train[new_train[\"user_id\"].isin(new_test[\"user_id\"])]\n",
    "    in_both = in_test[in_test[\"user_id\"].isin(new_val[\"user_id\"])]\n",
    "    dev_both = new_val[new_val[\"user_id\"].isin(in_both[\"user_id\"])]\n",
    "    test_both = new_test[new_test[\"user_id\"].isin(in_both[\"user_id\"])]\n",
    "    print(in_both.shape, dev_both.shape, test_both.shape)\n",
    "    return in_both, dev_both, test_both"
   ]
  },
  {
   "cell_type": "code",
   "execution_count": 13,
   "id": "65ddae2b-b328-4913-ba19-5693a2ea6652",
   "metadata": {},
   "outputs": [
    {
     "name": "stdout",
     "output_type": "stream",
     "text": [
      "(127856, 27) (15849, 27) (16306, 27)\n"
     ]
    }
   ],
   "source": [
    "in_both, dev_both, test_both = clean_users(new_train, new_val, new_test)"
   ]
  },
  {
   "cell_type": "code",
   "execution_count": 14,
   "id": "4ccd8b3c-a101-4739-b144-ddb239f3d75c",
   "metadata": {},
   "outputs": [
    {
     "name": "stdout",
     "output_type": "stream",
     "text": [
      "sizes - train: (53,) val: (53,) test: (53,)\n",
      "(0, 0) (0, 0) (0, 0)\n",
      "set()\n"
     ]
    }
   ],
   "source": [
    "check_users(in_both, test_both, dev_both)"
   ]
  },
  {
   "cell_type": "code",
   "execution_count": 15,
   "id": "89748a0d-d9c3-47fa-a311-0812cf5a5a05",
   "metadata": {},
   "outputs": [],
   "source": [
    "def average_annotation_per_user(df, crop=False):\n",
    "    annotation_number = df.groupby(by=[\"user_id\"]).count()[\"text_id\"].sort_values()\n",
    "    print(\"annotator head\")\n",
    "    print(annotation_number.head())\n",
    "    print(\"annotator tail\")\n",
    "    print(annotation_number.tail())\n",
    "    mean = annotation_number.mean()\n",
    "    max = annotation_number.max()\n",
    "    min = annotation_number.min()\n",
    "    median = annotation_number.median()\n",
    "    (annotation_number/max).reset_index()[\"text_id\"].plot()\n",
    "    all = df.shape[0]\n",
    "    upper_threshold = 0.8*max\n",
    "    lower_threshold = 0.01*max\n",
    "    print(\"ANNOTATORS\")\n",
    "    print(\"min:\", min, \"mean:\", mean, \"median:\", median ,\"max:\", max, \"all:\", all)\n",
    "    text_number = df.groupby(by=[\"text_id\"]).count()[\"user_id\"].sort_values()\n",
    "    # print(\"text head\")\n",
    "    # print(text_number.head())\n",
    "    # print(\"text tail\")\n",
    "    # print(text_number.tail())\n",
    "    mean = text_number.mean()\n",
    "    max = text_number.max()\n",
    "    min = text_number.min()\n",
    "    median = text_number.median()\n",
    "    # (text_number/max).reset_index()[\"user_id\"].plot()\n",
    "    all = df.shape[0]\n",
    "    print(\"TEXTS\")\n",
    "    print(\"min:\", min, \"mean:\", mean, \"median:\", median ,\"max:\", max, \"all:\", all)    \n",
    "    curr_df = df\n",
    "    if crop:\n",
    "        print(\"cropping...\")\n",
    "        print(curr_df.shape)\n",
    "        to_crop = []\n",
    "        for worker in df[\"user_id\"].unique():\n",
    "            if annotation_number[worker] < lower_threshold:\n",
    "                curr_df = curr_df[curr_df[\"user_id\"] != worker]\n",
    "            if annotation_number[worker] > upper_threshold:\n",
    "                to_crop.append(worker)\n",
    "        print(\"after lower crop, before upper\")\n",
    "        print(curr_df.shape)\n",
    "        for worker in to_crop:\n",
    "            crop_number = int(annotation_number[worker] - upper_threshold)\n",
    "            ann_to_drop = curr_df[curr_df[\"user_id\"] == worker].sample(n=crop_number)\n",
    "            anns = pd.merge(curr_df, ann_to_drop, how=\"outer\", indicator=True)\n",
    "            curr_df = anns[anns[\"_merge\"] == \"left_only\"].drop(columns=[\"_merge\"], axis=1)\n",
    "        print(\"cropping finished...\")\n",
    "        print(curr_df.shape)\n",
    "    \n",
    "    return curr_df.dropna()"
   ]
  },
  {
   "cell_type": "code",
   "execution_count": 16,
   "id": "78aec95e-e483-4f7b-a524-56164bcdf3fc",
   "metadata": {},
   "outputs": [],
   "source": [
    "def change_id_to_int(df):\n",
    "    df[\"user_id\"] = df[\"user_id\"].astype(int)\n",
    "    return df"
   ]
  },
  {
   "cell_type": "code",
   "execution_count": 17,
   "id": "63272ee0-0377-4059-abb5-e5fdfaae1204",
   "metadata": {},
   "outputs": [],
   "source": [
    "def analyze_annotations(train, dev, test, crop=False):\n",
    "    print('-'*10, 'check', \"-\"*10)\n",
    "    check_users(train, test, dev)\n",
    "    print('-'*10, 'clean', \"-\"*10)\n",
    "    in_both, dev_both, test_both = clean_users(train, dev, test)\n",
    "    print('-'*10, 'train', \"-\"*10)\n",
    "    crop_train = average_annotation_per_user(in_both, crop=crop)\n",
    "    print('-'*10, 'dev', \"-\"*10)\n",
    "    crop_dev = average_annotation_per_user(dev_both, crop=False)\n",
    "    print('-'*10, 'test', \"-\"*10)\n",
    "    crop_test = average_annotation_per_user(test_both, crop=crop)\n",
    "    print('-'*10, 'check 2', \"-\"*10)\n",
    "    check_users(crop_train, crop_test, crop_dev)\n",
    "    print('-'*10, 'clean 2', \"-\"*10)\n",
    "    train_final, dev_final, test_final = clean_users(crop_train, crop_dev, crop_test)\n",
    "    print('-'*10, 'check 3', \"-\"*10)\n",
    "    check_users(train_final, test_final, dev_final)\n",
    "    train_final = change_id_to_int(train_final)\n",
    "    dev_final = change_id_to_int(dev_final)\n",
    "    test_final = change_id_to_int(test_final)\n",
    "    return train_final, dev_final, test_final"
   ]
  },
  {
   "cell_type": "code",
   "execution_count": 18,
   "id": "2919b91a-62d1-48a8-813d-73c9f17ca8af",
   "metadata": {},
   "outputs": [
    {
     "name": "stdout",
     "output_type": "stream",
     "text": [
      "---------- check ----------\n",
      "sizes - train: (60,) val: (60,) test: (53,)\n",
      "(0, 0) (7, 0) (0, 7)\n",
      "{37, 40, 19, 20, 52, 55, 27}\n",
      "---------- clean ----------\n",
      "(127856, 27) (15849, 27) (16306, 27)\n",
      "---------- train ----------\n",
      "annotator head\n",
      "user_id\n",
      "39    1475\n",
      "5     1497\n",
      "22    1517\n",
      "54    1521\n",
      "36    1550\n",
      "Name: text_id, dtype: int64\n",
      "annotator tail\n",
      "user_id\n",
      "17    2738\n",
      "49    2752\n",
      "8     2759\n",
      "32    3135\n",
      "59    3725\n",
      "Name: text_id, dtype: int64\n",
      "ANNOTATORS\n",
      "min: 1475 mean: 2412.377358490566 median: 2602.0 max: 3725 all: 127856\n",
      "TEXTS\n",
      "min: 1 mean: 4.3562521294718906 median: 2.0 max: 53 all: 127856\n",
      "---------- dev ----------\n",
      "annotator head\n",
      "user_id\n",
      "1     140\n",
      "39    182\n",
      "13    196\n",
      "4     250\n",
      "2     252\n",
      "Name: text_id, dtype: int64\n",
      "annotator tail\n",
      "user_id\n",
      "23    318\n",
      "30    318\n",
      "54    318\n",
      "11    319\n",
      "18    319\n",
      "Name: text_id, dtype: int64\n",
      "ANNOTATORS\n",
      "min: 140 mean: 299.0377358490566 median: 312.0 max: 319 all: 15849\n",
      "TEXTS\n",
      "min: 1 mean: 42.49061662198391 median: 50.0 max: 53 all: 15849\n",
      "---------- test ----------\n",
      "annotator head\n",
      "user_id\n",
      "54     4\n",
      "5      4\n",
      "22     8\n",
      "6     50\n",
      "36    50\n",
      "Name: text_id, dtype: int64\n",
      "annotator tail\n",
      "user_id\n",
      "18    409\n",
      "29    410\n",
      "25    418\n",
      "32    450\n",
      "59    650\n",
      "Name: text_id, dtype: int64\n",
      "ANNOTATORS\n",
      "min: 4 mean: 307.66037735849056 median: 363.0 max: 650 all: 16306\n",
      "TEXTS\n",
      "min: 1 mean: 1.8139948826343308 median: 2.0 max: 7 all: 16306\n",
      "---------- check 2 ----------\n",
      "sizes - train: (53,) val: (53,) test: (53,)\n",
      "(0, 0) (0, 0) (0, 0)\n",
      "set()\n",
      "---------- clean 2 ----------\n",
      "(127856, 27) (15849, 27) (16306, 27)\n",
      "---------- check 3 ----------\n",
      "sizes - train: (53,) val: (53,) test: (53,)\n",
      "(0, 0) (0, 0) (0, 0)\n",
      "set()\n"
     ]
    },
    {
     "data": {
      "image/png": "[encoded data removed]",
      "text/plain": [
       "<Figure size 640x480 with 1 Axes>"
      ]
     },
     "metadata": {},
     "output_type": "display_data"
    }
   ],
   "source": [
    "train_final, dev_final, test_final = analyze_annotations(new_train, new_val, new_test, crop=False)"
   ]
  },
  {
   "cell_type": "code",
   "execution_count": 19,
   "id": "b6a6d31a-d5ee-4b75-9c6e-235c49b54288",
   "metadata": {},
   "outputs": [
    {
     "name": "stdout",
     "output_type": "stream",
     "text": [
      "---------- check ----------\n",
      "sizes - train: (53,) val: (53,) test: (53,)\n",
      "(0, 0) (0, 0) (0, 0)\n",
      "set()\n",
      "---------- clean ----------\n",
      "(127856, 27) (15849, 27) (16306, 27)\n",
      "---------- train ----------\n",
      "annotator head\n",
      "user_id\n",
      "39    1475\n",
      "5     1497\n",
      "22    1517\n",
      "54    1521\n",
      "36    1550\n",
      "Name: text_id, dtype: int64\n",
      "annotator tail\n",
      "user_id\n",
      "17    2738\n",
      "49    2752\n",
      "8     2759\n",
      "32    3135\n",
      "59    3725\n",
      "Name: text_id, dtype: int64\n",
      "ANNOTATORS\n",
      "min: 1475 mean: 2412.377358490566 median: 2602.0 max: 3725 all: 127856\n",
      "TEXTS\n",
      "min: 1 mean: 4.3562521294718906 median: 2.0 max: 53 all: 127856\n",
      "---------- dev ----------\n",
      "annotator head\n",
      "user_id\n",
      "1     140\n",
      "39    182\n",
      "13    196\n",
      "4     250\n",
      "2     252\n",
      "Name: text_id, dtype: int64\n",
      "annotator tail\n",
      "user_id\n",
      "23    318\n",
      "30    318\n",
      "54    318\n",
      "11    319\n",
      "18    319\n",
      "Name: text_id, dtype: int64\n",
      "ANNOTATORS\n",
      "min: 140 mean: 299.0377358490566 median: 312.0 max: 319 all: 15849\n",
      "TEXTS\n",
      "min: 1 mean: 42.49061662198391 median: 50.0 max: 53 all: 15849\n",
      "---------- test ----------\n",
      "annotator head\n",
      "user_id\n",
      "54     4\n",
      "5      4\n",
      "22     8\n",
      "6     50\n",
      "36    50\n",
      "Name: text_id, dtype: int64\n",
      "annotator tail\n",
      "user_id\n",
      "18    409\n",
      "29    410\n",
      "25    418\n",
      "32    450\n",
      "59    650\n",
      "Name: text_id, dtype: int64\n",
      "ANNOTATORS\n",
      "min: 4 mean: 307.66037735849056 median: 363.0 max: 650 all: 16306\n",
      "TEXTS\n",
      "min: 1 mean: 1.8139948826343308 median: 2.0 max: 7 all: 16306\n",
      "---------- check 2 ----------\n",
      "sizes - train: (53,) val: (53,) test: (53,)\n",
      "(0, 0) (0, 0) (0, 0)\n",
      "set()\n",
      "---------- clean 2 ----------\n",
      "(127856, 27) (15849, 27) (16306, 27)\n",
      "---------- check 3 ----------\n",
      "sizes - train: (53,) val: (53,) test: (53,)\n",
      "(0, 0) (0, 0) (0, 0)\n",
      "set()\n"
     ]
    },
    {
     "data": {
      "image/png": "[encoded data removed]",
      "text/plain": [
       "<Figure size 640x480 with 1 Axes>"
      ]
     },
     "metadata": {},
     "output_type": "display_data"
    }
   ],
   "source": [
    "_ = analyze_annotations(train_final, dev_final, test_final, crop=False)"
   ]
  },
  {
   "cell_type": "code",
   "execution_count": 20,
   "id": "7ebd2980-6541-4915-b3ae-4f937e351569",
   "metadata": {},
   "outputs": [],
   "source": [
    "train_final.to_csv(train_path, index=False)\n",
    "dev_final.to_csv(val_path, index=False)\n",
    "test_final.to_csv(test_path, index=False)"
   ]
  },
  {
   "cell_type": "code",
   "execution_count": null,
   "id": "78b738f9-7b73-40ca-b8af-f956decf73b1",
   "metadata": {},
   "outputs": [],
   "source": []
  }
 ],
 "metadata": {
  "kernelspec": {
   "display_name": "Python 3 (ipykernel)",
   "language": "python",
   "name": "python3"
  },
  "language_info": {
   "codemirror_mode": {
    "name": "ipython",
    "version": 3
   },
   "file_extension": ".py",
   "mimetype": "text/x-python",
   "name": "python",
   "nbconvert_exporter": "python",
   "pygments_lexer": "ipython3",
   "version": "3.10.13"
  }
 },
 "nbformat": 4,
 "nbformat_minor": 5
}
