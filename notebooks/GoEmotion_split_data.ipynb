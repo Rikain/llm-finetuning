{
 "cells": [
  {
   "cell_type": "code",
   "execution_count": 1,
   "id": "39319e45-3425-4d32-b7c3-9a316ebe568e",
   "metadata": {},
   "outputs": [],
   "source": [
    "import pandas as pd\n",
    "from pathlib import Path"
   ]
  },
  {
   "cell_type": "code",
   "execution_count": 2,
   "id": "db564029-ae3e-4f0a-93dd-6d79be1b01cc",
   "metadata": {},
   "outputs": [],
   "source": [
    "data_dir = Path(\"../data/go_emo\")\n",
    "raw_dir = data_dir / \"raw\"\n",
    "full_dataset_1 = raw_dir / \"goemotions_1.csv\"\n",
    "full_dataset_2 = raw_dir / \"goemotions_2.csv\"\n",
    "full_dataset_3 = raw_dir / \"goemotions_3.csv\"\n",
    "\n",
    "train_original = raw_dir / \"train_mv.csv\"\n",
    "val_original = raw_dir / \"val_mv.csv\"\n",
    "test_original = raw_dir / \"test_mv.csv\"\n",
    "\n",
    "train_final_path = data_dir / \"train.csv\"\n",
    "val_final_path = data_dir / \"val.csv\"\n",
    "test_final_path = data_dir / \"test.csv\""
   ]
  },
  {
   "cell_type": "code",
   "execution_count": 3,
   "id": "94441927-514b-4888-a44f-f66952207704",
   "metadata": {},
   "outputs": [
    {
     "data": {
      "text/plain": [
       "((211225, 37),\n",
       " Index(['text', 'id', 'author', 'subreddit', 'link_id', 'parent_id',\n",
       "        'created_utc', 'rater_id', 'example_very_unclear', 'admiration',\n",
       "        'amusement', 'anger', 'annoyance', 'approval', 'caring', 'confusion',\n",
       "        'curiosity', 'desire', 'disappointment', 'disapproval', 'disgust',\n",
       "        'embarrassment', 'excitement', 'fear', 'gratitude', 'grief', 'joy',\n",
       "        'love', 'nervousness', 'optimism', 'pride', 'realization', 'relief',\n",
       "        'remorse', 'sadness', 'surprise', 'neutral'],\n",
       "       dtype='object'),\n",
       " Index(['text', 'admiration', 'amusement', 'anger', 'annoyance', 'approval',\n",
       "        'caring', 'confusion', 'curiosity', 'desire', 'disappointment',\n",
       "        'disapproval', 'disgust', 'embarrassment', 'excitement', 'fear',\n",
       "        'gratitude', 'grief', 'joy', 'love', 'nervousness', 'optimism', 'pride',\n",
       "        'realization', 'relief', 'remorse', 'sadness', 'surprise', 'neutral'],\n",
       "       dtype='object'))"
      ]
     },
     "execution_count": 3,
     "metadata": {},
     "output_type": "execute_result"
    }
   ],
   "source": [
    "full_df = pd.concat([pd.read_csv(full_dataset_1), pd.read_csv(full_dataset_2), pd.read_csv(full_dataset_3)], axis=0)\n",
    "train_or_df = pd.read_csv(train_original)\n",
    "val_or_df = pd.read_csv(val_original)\n",
    "test_or_df = pd.read_csv(test_original)\n",
    "full_df.shape, full_df.columns, train_or_df.columns"
   ]
  },
  {
   "cell_type": "code",
   "execution_count": 4,
   "id": "68acb668-f47a-4290-a906-18e97ebb1e35",
   "metadata": {},
   "outputs": [
    {
     "data": {
      "text/plain": [
       "(43410, 5426, 5427, 54263)"
      ]
     },
     "execution_count": 4,
     "metadata": {},
     "output_type": "execute_result"
    }
   ],
   "source": [
    "train_or_df.shape[0], val_or_df.shape[0], test_or_df.shape[0], train_or_df.shape[0] + val_or_df.shape[0] + test_or_df.shape[0]"
   ]
  },
  {
   "cell_type": "code",
   "execution_count": 5,
   "id": "7d138241-ce5c-4e92-87be-07c72986fa08",
   "metadata": {},
   "outputs": [
    {
     "data": {
      "text/plain": [
       "(57732, 37)"
      ]
     },
     "execution_count": 5,
     "metadata": {},
     "output_type": "execute_result"
    }
   ],
   "source": [
    "full_df.drop_duplicates(subset=[\"text\"]).shape"
   ]
  },
  {
   "cell_type": "code",
   "execution_count": 10,
   "id": "1f76b28a-18fe-47ea-aa97-1e9adcd08679",
   "metadata": {},
   "outputs": [
    {
     "name": "stdout",
     "output_type": "stream",
     "text": [
      "43227 5423 5421\n",
      "54071\n",
      "54071\n",
      "53994\n",
      "53994\n",
      "53994\n"
     ]
    }
   ],
   "source": [
    "datasets = [train_or_df, val_or_df, test_or_df]\n",
    "t1 = datasets[0].drop_duplicates(subset=[\"text\"])\n",
    "v1 = datasets[1].drop_duplicates(subset=[\"text\"])\n",
    "d1 = datasets[2].drop_duplicates(subset=[\"text\"])\n",
    "print(t1.shape[0], v1.shape[0], d1.shape[0])\n",
    "print(t1.shape[0] + v1.shape[0] + d1.shape[0])\n",
    "f = pd.concat([t1, v1, d1], axis=0)\n",
    "print(f.shape[0])\n",
    "print(f.drop_duplicates(subset=[\"text\"]).shape[0])\n",
    "d2 = d1[~d1[\"text\"].isin(t1[\"text\"])]\n",
    "v2 = v1[(~v1[\"text\"].isin(t1[\"text\"])) & (~v1[\"text\"].isin(d2[\"text\"]))]\n",
    "f2 = pd.concat([t1, v2, d2], axis=0)\n",
    "print(f2.shape[0])\n",
    "print(f2.drop_duplicates(subset=[\"text\"]).shape[0])"
   ]
  },
  {
   "cell_type": "code",
   "execution_count": 11,
   "id": "f67ba403-0aab-4830-bcde-addb8d880ef2",
   "metadata": {},
   "outputs": [],
   "source": [
    "def clean_empty_annotations(df):\n",
    "    \n",
    "    label_columns = sorted([\n",
    "        'admiration', 'amusement', 'anger', 'annoyance', 'approval', 'caring', 'confusion',\n",
    "        'curiosity', 'desire', 'disappointment', 'disapproval', 'disgust',\n",
    "        'embarrassment', 'excitement', 'fear', 'gratitude', 'grief', 'joy',\n",
    "        'love', 'nervousness', 'optimism', 'pride', 'realization', 'relief',\n",
    "        'remorse', 'sadness', 'surprise', 'neutral'\n",
    "    ])\n",
    "    def is_empty(sample):\n",
    "        sum_ = sum([sample[label] for label in label_columns])\n",
    "        empty = False\n",
    "        if sum_ == 0:\n",
    "            empty = True\n",
    "        return empty\n",
    "\n",
    "    df[\"empty\"] = df.apply(is_empty, axis=1)\n",
    "    df = df[~df[\"empty\"]]\n",
    "    return df.drop(columns=[\"empty\"])\n",
    "    "
   ]
  },
  {
   "cell_type": "code",
   "execution_count": 12,
   "id": "7d968bbc-9ff8-46a7-a5a1-e75ec5bcc1bc",
   "metadata": {},
   "outputs": [
    {
     "data": {
      "text/plain": [
       "(207814, 37)"
      ]
     },
     "execution_count": 12,
     "metadata": {},
     "output_type": "execute_result"
    }
   ],
   "source": [
    "full_df = clean_empty_annotations(full_df)\n",
    "full_df.shape"
   ]
  },
  {
   "cell_type": "code",
   "execution_count": 14,
   "id": "5b136a53-c4ed-4b5e-a46f-86c5f9aa6e0d",
   "metadata": {},
   "outputs": [
    {
     "data": {
      "text/plain": [
       "((153797, 37), (19049, 37), (19123, 37))"
      ]
     },
     "execution_count": 14,
     "metadata": {},
     "output_type": "execute_result"
    }
   ],
   "source": [
    "train_texts = t1[\"text\"]\n",
    "test_texts = d2[\"text\"]\n",
    "val_texts = v2[\"text\"]\n",
    "new_train = full_df[full_df[\"text\"].isin(train_texts)]\n",
    "new_test = full_df[full_df[\"text\"].isin(test_texts)]\n",
    "new_val = full_df[full_df[\"text\"].isin(val_texts)]\n",
    "\n",
    "new_train.shape, new_val.shape, new_test.shape"
   ]
  },
  {
   "cell_type": "code",
   "execution_count": 15,
   "id": "2dea601f-7606-4201-81e4-be9526a6aa0c",
   "metadata": {},
   "outputs": [],
   "source": [
    "def check_users(train, test, dev):\n",
    "    train_users = train[\"rater_id\"].unique()\n",
    "    dev_users = dev[\"rater_id\"].unique()\n",
    "    test_users = test[\"rater_id\"].unique()\n",
    "    print(\"sizes -\", \"train:\", train_users.shape, \"val:\", dev_users.shape, \"test:\", test_users.shape)\n",
    "    train_dev = (len(set(train_users) - set(dev_users)), len(set(dev_users) - set(train_users)))\n",
    "    train_test = (len(set(train_users) - set(test_users)), len(set(test_users) - set(train_users)))\n",
    "    test_dev = (len(set(test_users) - set(dev_users)), len(set(dev_users) - set(test_users)))\n",
    "    print(train_dev, train_test, test_dev)\n",
    "    print(set(train_users) - set(test_users))"
   ]
  },
  {
   "cell_type": "code",
   "execution_count": 16,
   "id": "955e8b02-2b90-4d39-a8f8-5bab784c322e",
   "metadata": {},
   "outputs": [
    {
     "name": "stdout",
     "output_type": "stream",
     "text": [
      "sizes - train: (82,) val: (81,) test: (81,)\n",
      "(1, 0) (1, 0) (0, 0)\n",
      "{68}\n"
     ]
    }
   ],
   "source": [
    "check_users(new_train, new_test, new_val)"
   ]
  },
  {
   "cell_type": "code",
   "execution_count": 17,
   "id": "7dbe2cd2-a3b8-4219-beb4-97a9eccaea12",
   "metadata": {},
   "outputs": [],
   "source": [
    "def clean_users(new_train, new_val, new_test):\n",
    "    in_test = new_train[new_train[\"rater_id\"].isin(new_test[\"rater_id\"])]\n",
    "    in_both = in_test[in_test[\"rater_id\"].isin(new_val[\"rater_id\"])]\n",
    "    dev_both = new_val[new_val[\"rater_id\"].isin(in_both[\"rater_id\"])]\n",
    "    test_both = new_test[new_test[\"rater_id\"].isin(in_both[\"rater_id\"])]\n",
    "    print(in_both.shape, dev_both.shape, test_both.shape)\n",
    "    return in_both, dev_both, test_both"
   ]
  },
  {
   "cell_type": "code",
   "execution_count": 18,
   "id": "65ddae2b-b328-4913-ba19-5693a2ea6652",
   "metadata": {},
   "outputs": [
    {
     "name": "stdout",
     "output_type": "stream",
     "text": [
      "(153796, 37) (19049, 37) (19123, 37)\n"
     ]
    }
   ],
   "source": [
    "in_both, dev_both, test_both = clean_users(new_train, new_val, new_test)"
   ]
  },
  {
   "cell_type": "code",
   "execution_count": 19,
   "id": "4ccd8b3c-a101-4739-b144-ddb239f3d75c",
   "metadata": {},
   "outputs": [
    {
     "name": "stdout",
     "output_type": "stream",
     "text": [
      "sizes - train: (81,) val: (81,) test: (81,)\n",
      "(0, 0) (0, 0) (0, 0)\n",
      "set()\n"
     ]
    }
   ],
   "source": [
    "check_users(in_both, test_both, dev_both)"
   ]
  },
  {
   "cell_type": "code",
   "execution_count": 63,
   "id": "89748a0d-d9c3-47fa-a311-0812cf5a5a05",
   "metadata": {},
   "outputs": [],
   "source": [
    "def average_annotation_per_user(df, crop=False):\n",
    "    annotation_number = df.groupby(by=[\"rater_id\"]).count()[\"text\"].sort_values()\n",
    "    print(\"annotator head\")\n",
    "    print(annotation_number.head())\n",
    "    print(\"annotator tail\")\n",
    "    print(annotation_number.tail())\n",
    "    mean = annotation_number.mean()\n",
    "    max = annotation_number.max()\n",
    "    min = annotation_number.min()\n",
    "    median = annotation_number.median()\n",
    "    (annotation_number/max).reset_index()[\"text\"].plot()\n",
    "    all = df.shape[0]\n",
    "    upper_threshold = 0.6*max\n",
    "    lower_threshold = 0.01*max\n",
    "    print(\"ANNOTATORS\")\n",
    "    print(\"min:\", min, \"mean:\", mean, \"median:\", median ,\"max:\", max, \"all:\", all)\n",
    "    text_number = df.groupby(by=[\"text\"]).count()[\"rater_id\"].sort_values()\n",
    "    print(\"text head\")\n",
    "    print(text_number.head())\n",
    "    print(\"text tail\")\n",
    "    print(text_number.tail())\n",
    "    mean = text_number.mean()\n",
    "    max = text_number.max()\n",
    "    min = text_number.min()\n",
    "    median = text_number.median()\n",
    "    (text_number/max).reset_index()[\"rater_id\"].plot()\n",
    "    all = df.shape[0]\n",
    "    print(\"TEXTS\")\n",
    "    print(\"min:\", min, \"mean:\", mean, \"median:\", median ,\"max:\", max, \"all:\", all)    \n",
    "    curr_df = df\n",
    "    if crop:\n",
    "        print(\"cropping...\")\n",
    "        print(curr_df.shape)\n",
    "        to_crop = []\n",
    "        for worker in df[\"rater_id\"].unique():\n",
    "            if annotation_number[worker] < lower_threshold:\n",
    "                curr_df = curr_df[curr_df[\"rater_id\"] != worker]\n",
    "            if annotation_number[worker] > upper_threshold:\n",
    "                to_crop.append(worker)\n",
    "        print(\"after lower crop, before upper\")\n",
    "        print(curr_df.shape)\n",
    "        for worker in to_crop:\n",
    "            crop_number = int(annotation_number[worker] - upper_threshold)\n",
    "            ann_to_drop = curr_df[curr_df[\"rater_id\"] == worker].sample(n=crop_number)\n",
    "            anns = pd.merge(curr_df, ann_to_drop, how=\"outer\", indicator=True)\n",
    "            curr_df = anns[anns[\"_merge\"] == \"left_only\"].drop(columns=[\"_merge\"], axis=1)\n",
    "        print(\"cropping finished...\")\n",
    "        print(curr_df.shape)\n",
    "    \n",
    "    return curr_df.dropna()"
   ]
  },
  {
   "cell_type": "code",
   "execution_count": 64,
   "id": "78aec95e-e483-4f7b-a524-56164bcdf3fc",
   "metadata": {},
   "outputs": [],
   "source": [
    "def change_id_to_int(df):\n",
    "    df[\"rater_id\"] = df[\"rater_id\"].astype(int)\n",
    "    return df"
   ]
  },
  {
   "cell_type": "code",
   "execution_count": 65,
   "id": "63272ee0-0377-4059-abb5-e5fdfaae1204",
   "metadata": {},
   "outputs": [],
   "source": [
    "def analyze_annotations(train, dev, test, crop=False):\n",
    "    print('-'*10, 'check', \"-\"*10)\n",
    "    check_users(train, test, dev)\n",
    "    print('-'*10, 'clean', \"-\"*10)\n",
    "    in_both, dev_both, test_both = clean_users(train, dev, test)\n",
    "    print('-'*10, 'train', \"-\"*10)\n",
    "    crop_train = average_annotation_per_user(in_both, crop=crop)\n",
    "    print('-'*10, 'dev', \"-\"*10)\n",
    "    crop_dev = average_annotation_per_user(dev_both, crop=crop)\n",
    "    print('-'*10, 'test', \"-\"*10)\n",
    "    crop_test = average_annotation_per_user(test_both, crop=crop)\n",
    "    print('-'*10, 'check 2', \"-\"*10)\n",
    "    check_users(crop_train, crop_test, crop_dev)\n",
    "    print('-'*10, 'clean 2', \"-\"*10)\n",
    "    train_final, dev_final, test_final = clean_users(crop_train, crop_dev, crop_test)\n",
    "    print('-'*10, 'check 3', \"-\"*10)\n",
    "    check_users(train_final, test_final, dev_final)\n",
    "    train_final = change_id_to_int(train_final)\n",
    "    dev_final = change_id_to_int(dev_final)\n",
    "    test_final = change_id_to_int(test_final)\n",
    "    return train_final, dev_final, test_final"
   ]
  },
  {
   "cell_type": "code",
   "execution_count": 66,
   "id": "2919b91a-62d1-48a8-813d-73c9f17ca8af",
   "metadata": {},
   "outputs": [
    {
     "name": "stdout",
     "output_type": "stream",
     "text": [
      "---------- check ----------\n",
      "sizes - train: (82,) val: (81,) test: (81,)\n",
      "(1, 0) (1, 0) (0, 0)\n",
      "{68}\n",
      "---------- clean ----------\n",
      "(153796, 37) (19049, 37) (19123, 37)\n",
      "---------- train ----------\n",
      "annotator head\n",
      "rater_id\n",
      "47     3\n",
      "0     30\n",
      "53    44\n",
      "45    51\n",
      "69    62\n",
      "Name: text, dtype: int64\n",
      "annotator tail\n",
      "rater_id\n",
      "62    4130\n",
      "2     4348\n",
      "37    6291\n",
      "61    6771\n",
      "4     7913\n",
      "Name: text, dtype: int64\n",
      "ANNOTATORS\n",
      "min: 3 mean: 1898.716049382716 median: 1444.0 max: 7913 all: 153796\n",
      "text head\n",
      "text\n",
      "That’s pretty cool. Bet your dad is *vewy pwoud* he still has his accent!😂                  2\n",
      "This mode is dead. Sorry :/                                                                 2\n",
      "Man my siblings would never just kill me like that                                          2\n",
      "Also in [NAME] news - he's now contributing \"insight\" to Sputnik. Nothing weird there...    2\n",
      "Also dont have to worry about ramos and robles walking in runs to lose games                2\n",
      "Name: rater_id, dtype: int64\n",
      "text tail\n",
      "text\n",
      "Good luck!           22\n",
      "Weird flex but ok    24\n",
      "Happy cake day!      29\n",
      "Thank you!           35\n",
      "Thank you.           45\n",
      "Name: rater_id, dtype: int64\n",
      "TEXTS\n",
      "min: 2 mean: 3.557868924514771 median: 3.0 max: 45 all: 153796\n",
      "cropping...\n",
      "(153796, 37)\n",
      "after lower crop, before upper\n",
      "(153390, 37)\n",
      "cropping finished...\n",
      "(146659, 37)\n",
      "---------- dev ----------\n",
      "annotator head\n",
      "rater_id\n",
      "0     2\n",
      "47    2\n",
      "53    6\n",
      "80    6\n",
      "45    7\n",
      "Name: text, dtype: int64\n",
      "annotator tail\n",
      "rater_id\n",
      "52    527\n",
      "2     529\n",
      "37    737\n",
      "61    833\n",
      "4     940\n",
      "Name: text, dtype: int64\n",
      "ANNOTATORS\n",
      "min: 2 mean: 235.17283950617283 median: 183.0 max: 940 all: 19049\n",
      "text head\n",
      "text\n",
      "I am a ethnic [NAME] and demand that normies get out! REEEEEE    2\n",
      "Still no contest                                                 2\n",
      "r/NagafenCoD is ecstatic                                         2\n",
      "[NAME]: \"I like being bad. It makes me happy.\"                   2\n",
      "OP already stole it himself                                      2\n",
      "Name: rater_id, dtype: int64\n",
      "text tail\n",
      "text\n",
      "This was insane. I knew [NAME] was legit when he swung at a pitch while being intentionally walked and almost hit it out.    5\n",
      " Calm down and relax are the worst things to say to a woman, ever.                                                           5\n",
      "Thank you very much.                                                                                                         6\n",
      "There it is!                                                                                                                 8\n",
      "Not bad at all.                                                                                                              9\n",
      "Name: rater_id, dtype: int64\n",
      "TEXTS\n",
      "min: 2 mean: 3.542023056898475 median: 3.0 max: 9 all: 19049\n",
      "cropping...\n",
      "(19049, 37)\n",
      "after lower crop, before upper\n",
      "(19017, 37)\n",
      "cropping finished...\n",
      "(18199, 37)\n",
      "---------- test ----------\n",
      "annotator head\n",
      "rater_id\n",
      "47    2\n",
      "53    6\n",
      "0     7\n",
      "65    8\n",
      "80    8\n",
      "Name: text, dtype: int64\n",
      "annotator tail\n",
      "rater_id\n",
      "52     542\n",
      "2      543\n",
      "37     795\n",
      "61     828\n",
      "4     1005\n",
      "Name: text, dtype: int64\n",
      "ANNOTATORS\n",
      "min: 2 mean: 236.08641975308643 median: 192.0 max: 1005 all: 19123\n",
      "text head\n",
      "text\n",
      "Oof.. :(                                                                                                                                                                               2\n",
      ">tfw she was explaining to him what a nuclear explosion would do                                                                                                                       2\n",
      "Gross. I hate using those reusable cloth ones because they retain smells. You've got cats? I know, I can smell them.                                                                   2\n",
      "Laxatives in brownies. Itching powder in shoes. Remove toilet paper from bathroom. Kill him Sharpie his face when he goes to sleep Put a stink bomb in his booksack Steal his girl.    2\n",
      "If you sprinkle when you tinkle, be a sweetie and wipe the seatie. #peetoo                                                                                                             2\n",
      "Name: rater_id, dtype: int64\n",
      "text tail\n",
      "text\n",
      "Excuse me?           8\n",
      "*oh god oh fuck*     8\n",
      "I wanna die!         9\n",
      "Sounds good.        11\n",
      "Thanks!!            11\n",
      "Name: rater_id, dtype: int64\n",
      "TEXTS\n",
      "min: 2 mean: 3.5485247726850995 median: 3.0 max: 11 all: 19123\n",
      "cropping...\n",
      "(19123, 37)\n",
      "after lower crop, before upper\n",
      "(19063, 37)\n",
      "cropping finished...\n",
      "(18244, 37)\n",
      "---------- check 2 ----------\n",
      "sizes - train: (73,) val: (75,) test: (73,)\n",
      "(0, 2) (1, 1) (1, 3)\n",
      "{65}\n",
      "---------- clean 2 ----------\n",
      "(146574, 37) (18160, 37) (18233, 37)\n",
      "---------- check 3 ----------\n",
      "sizes - train: (72,) val: (72,) test: (72,)\n",
      "(0, 0) (0, 0) (0, 0)\n",
      "set()\n"
     ]
    },
    {
     "name": "stderr",
     "output_type": "stream",
     "text": [
      "/tmp/ipykernel_2510592/4066909369.py:2: SettingWithCopyWarning: \n",
      "A value is trying to be set on a copy of a slice from a DataFrame.\n",
      "Try using .loc[row_indexer,col_indexer] = value instead\n",
      "\n",
      "See the caveats in the documentation: https://pandas.pydata.org/pandas-docs/stable/user_guide/indexing.html#returning-a-view-versus-a-copy\n",
      "  df[\"rater_id\"] = df[\"rater_id\"].astype(int)\n",
      "/tmp/ipykernel_2510592/4066909369.py:2: SettingWithCopyWarning: \n",
      "A value is trying to be set on a copy of a slice from a DataFrame.\n",
      "Try using .loc[row_indexer,col_indexer] = value instead\n",
      "\n",
      "See the caveats in the documentation: https://pandas.pydata.org/pandas-docs/stable/user_guide/indexing.html#returning-a-view-versus-a-copy\n",
      "  df[\"rater_id\"] = df[\"rater_id\"].astype(int)\n"
     ]
    },
    {
     "data": {
      "image/png": "[encoded data removed]",
      "text/plain": [
       "<Figure size 640x480 with 1 Axes>"
      ]
     },
     "metadata": {},
     "output_type": "display_data"
    }
   ],
   "source": [
    "train_final, dev_final, test_final = analyze_annotations(new_train, new_val, new_test, crop=True)"
   ]
  },
  {
   "cell_type": "code",
   "execution_count": 67,
   "id": "b6a6d31a-d5ee-4b75-9c6e-235c49b54288",
   "metadata": {},
   "outputs": [
    {
     "name": "stdout",
     "output_type": "stream",
     "text": [
      "---------- check ----------\n",
      "sizes - train: (72,) val: (72,) test: (72,)\n",
      "(0, 0) (0, 0) (0, 0)\n",
      "set()\n",
      "---------- clean ----------\n",
      "(146574, 37) (18160, 37) (18233, 37)\n",
      "---------- train ----------\n",
      "annotator head\n",
      "rater_id\n",
      "71     88\n",
      "64     99\n",
      "13    132\n",
      "58    161\n",
      "29    196\n",
      "Name: text, dtype: int64\n",
      "annotator tail\n",
      "rater_id\n",
      "62    4130\n",
      "2     4348\n",
      "61    4748\n",
      "4     4748\n",
      "37    4748\n",
      "Name: text, dtype: int64\n",
      "ANNOTATORS\n",
      "min: 88 mean: 2035.75 median: 1828.0 max: 4748 all: 146574\n",
      "text head\n",
      "text\n",
      "Goat sighting!!                                                1\n",
      "[NAME] bless you                                               1\n",
      "[NAME] bless uncle [NAME]                                      1\n",
      "Now he isn't pulling enough troops out? He just can't win..    1\n",
      "And is that good or bad?                                       1\n",
      "Name: rater_id, dtype: int64\n",
      "text tail\n",
      "text\n",
      "I like it          21\n",
      "[NAME].            22\n",
      "Happy cake day!    29\n",
      "Thank you!         33\n",
      "Thank you.         44\n",
      "Name: rater_id, dtype: int64\n",
      "TEXTS\n",
      "min: 1 mean: 3.392681063815013 median: 3.0 max: 44 all: 146574\n",
      "---------- dev ----------\n",
      "annotator head\n",
      "rater_id\n",
      "71    12\n",
      "64    12\n",
      "13    16\n",
      "48    20\n",
      "58    22\n",
      "Name: text, dtype: int64\n",
      "annotator tail\n",
      "rater_id\n",
      "52    527\n",
      "2     529\n",
      "4     564\n",
      "61    564\n",
      "37    564\n",
      "Name: text, dtype: int64\n",
      "ANNOTATORS\n",
      "min: 12 mean: 252.22222222222223 median: 228.5 max: 564 all: 18160\n",
      "text head\n",
      "text\n",
      "That awkward when                                                                                                           1\n",
      "Right! I pictured my kids and my oldest would probably MAYBE try once to show the little one.                               1\n",
      "Give spanish your best effort. Youll meet girls who speak english even if its pretty rudimentary. Dance and be confident    1\n",
      "i find it a little disgusting if swear words are used frequently and unironically.                                          1\n",
      "Thought so. Thanks!                                                                                                         1\n",
      "Name: rater_id, dtype: int64\n",
      "text tail\n",
      "text\n",
      "I legit wish you never talked to me                         5\n",
      "I like to think it rhymes with wasabi but I have no idea    5\n",
      "Thank you very much.                                        6\n",
      "There it is!                                                8\n",
      "Not bad at all.                                             9\n",
      "Name: rater_id, dtype: int64\n",
      "TEXTS\n",
      "min: 1 mean: 3.3779761904761907 median: 3.0 max: 9 all: 18160\n",
      "---------- test ----------\n",
      "annotator head\n",
      "rater_id\n",
      "64    13\n",
      "71    17\n",
      "13    17\n",
      "58    23\n",
      "25    25\n",
      "Name: text, dtype: int64\n",
      "annotator tail\n",
      "rater_id\n",
      "52    542\n",
      "2     543\n",
      "4     603\n",
      "61    603\n",
      "37    603\n",
      "Name: text, dtype: int64\n",
      "ANNOTATORS\n",
      "min: 13 mean: 253.23611111111111 median: 213.5 max: 603 all: 18233\n",
      "text head\n",
      "text\n",
      "If the cops arrested him, he must be guilty! (Good luck!! You got this!)                                                                                 1\n",
      "Air Vooch oh my!                                                                                                                                         1\n",
      "Thank you for asking questions and recognizing that there may be things that you don’t know or understand about police tactics. Seriously. Thank you.    1\n",
      "Has Medicaid stopped? Most people I know who support this want Medicare or Medicaid for all.                                                             1\n",
      "There’s tons of stories of animals taking care of kids....I believe the story! :)                                                                        1\n",
      "Name: rater_id, dtype: int64\n",
      "text tail\n",
      "text\n",
      "I like this one      6\n",
      "*oh god oh fuck*     8\n",
      "I wanna die!         9\n",
      "Thanks!!            10\n",
      "Sounds good.        10\n",
      "Name: rater_id, dtype: int64\n",
      "TEXTS\n",
      "min: 1 mean: 3.3846296640059403 median: 3.0 max: 10 all: 18233\n",
      "---------- check 2 ----------\n",
      "sizes - train: (72,) val: (72,) test: (72,)\n",
      "(0, 0) (0, 0) (0, 0)\n",
      "set()\n",
      "---------- clean 2 ----------\n",
      "(146574, 37) (18160, 37) (18233, 37)\n",
      "---------- check 3 ----------\n",
      "sizes - train: (72,) val: (72,) test: (72,)\n",
      "(0, 0) (0, 0) (0, 0)\n",
      "set()\n"
     ]
    },
    {
     "data": {
      "image/png": "[encoded data removed]",
      "text/plain": [
       "<Figure size 640x480 with 1 Axes>"
      ]
     },
     "metadata": {},
     "output_type": "display_data"
    }
   ],
   "source": [
    "_ = analyze_annotations(train_final, dev_final, test_final, crop=False)"
   ]
  },
  {
   "cell_type": "code",
   "execution_count": 62,
   "id": "7ebd2980-6541-4915-b3ae-4f937e351569",
   "metadata": {},
   "outputs": [],
   "source": [
    "train_final.to_csv(train_final_path, index=False)\n",
    "dev_final.to_csv(val_final_path, index=False)\n",
    "test_final.to_csv(test_final_path, index=False)"
   ]
  },
  {
   "cell_type": "code",
   "execution_count": null,
   "id": "78b738f9-7b73-40ca-b8af-f956decf73b1",
   "metadata": {},
   "outputs": [],
   "source": []
  }
 ],
 "metadata": {
  "kernelspec": {
   "display_name": "Python 3 (ipykernel)",
   "language": "python",
   "name": "python3"
  },
  "language_info": {
   "codemirror_mode": {
    "name": "ipython",
    "version": 3
   },
   "file_extension": ".py",
   "mimetype": "text/x-python",
   "name": "python",
   "nbconvert_exporter": "python",
   "pygments_lexer": "ipython3",
   "version": "3.10.13"
  }
 },
 "nbformat": 4,
 "nbformat_minor": 5
}
