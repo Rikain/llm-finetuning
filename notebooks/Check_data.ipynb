{
 "cells": [
  {
   "cell_type": "code",
   "execution_count": 42,
   "id": "51729b7f-ef94-4db0-b794-806adccabb1d",
   "metadata": {},
   "outputs": [],
   "source": [
    "import pandas as pd\n",
    "from pathlib import Path\n",
    "from tqdm import tqdm"
   ]
  },
  {
   "cell_type": "code",
   "execution_count": 43,
   "id": "b84fc1d4-7fec-4ba0-84d1-5fe0bb796254",
   "metadata": {},
   "outputs": [
    {
     "data": {
      "text/plain": [
       "(227975, 12)"
      ]
     },
     "execution_count": 43,
     "metadata": {},
     "output_type": "execute_result"
    }
   ],
   "source": [
    "dirpath = Path(\"../data\")\n",
    "dataset = \"unhealthy\"\n",
    "filepath = dirpath / dataset / \"unhealthy_full.csv\"\n",
    "df = pd.read_csv(filepath)\n",
    "df.shape"
   ]
  },
  {
   "cell_type": "code",
   "execution_count": 44,
   "id": "783945c8-c89e-481a-82d4-568b73199549",
   "metadata": {},
   "outputs": [],
   "source": [
    "def get_columns(dataset):\n",
    "    if dataset == \"go_emo\":\n",
    "        return sorted([\n",
    "            'admiration','amusement', 'anger', 'annoyance', 'approval', 'caring',\n",
    "            'confusion', 'curiosity', 'desire', 'disappointment', 'disapproval',\n",
    "            'disgust', 'embarrassment', 'excitement', 'fear', 'gratitude', 'grief',\n",
    "            'joy', 'love', 'nervousness', 'optimism', 'pride', 'realization', 'relief',\n",
    "            'remorse', 'sadness', 'surprise', 'neutral'\n",
    "        ]), \"rater_id\", \"text\"\n",
    "    if dataset == \"unhealthy\":\n",
    "        return sorted([\n",
    "            \"antagonize\", \"condescending\" , \"dismissive\", \"generalisation\",\n",
    "            \"generalisation_unfair\", \"healthy\", \"hostile\", \"sarcastic\"\n",
    "        ]), \"_worker_id\", \"comment\"\n",
    "    if dataset == \"docanno\":\n",
    "        return sorted([\n",
    "            'inspiring', 'interesting', 'offensive_to_someone', 'negative',\n",
    "            'offensive_to_me', 'political', 'positive', 'sadness', 'calm',\n",
    "            'fear', 'compassion', 'disgust', 'vulgar', 'surprise', 'embarrasing',\n",
    "            'anger', 'understandable', 'ironic', 'need_more_information',\n",
    "            'happiness', 'delight', 'funny_to_someone', 'funny_to_me'\n",
    "        ]), \"user_id\", \"text\"\n",
    "    return None\n",
    "\n"
   ]
  },
  {
   "cell_type": "code",
   "execution_count": 45,
   "id": "9949b6f5-024f-449d-aad0-b8284e17487a",
   "metadata": {},
   "outputs": [],
   "source": [
    "label_columns, uid, text = get_columns(dataset)"
   ]
  },
  {
   "cell_type": "code",
   "execution_count": 46,
   "id": "681a0a5e-122a-415b-9ec2-8de70d52521e",
   "metadata": {},
   "outputs": [],
   "source": [
    "def parse_annotation_to_text(sample):\n",
    "    suma = sum([sample[label] for label in label_columns])\n",
    "    response = \", \".join([label for label in label_columns if sample[label] == 1])\n",
    "    if suma == 0:\n",
    "        return 1\n",
    "    return 0"
   ]
  },
  {
   "cell_type": "code",
   "execution_count": 47,
   "id": "85f638bd-e841-44e0-ac6d-0c8bcec99ae7",
   "metadata": {},
   "outputs": [
    {
     "name": "stderr",
     "output_type": "stream",
     "text": [
      "100%|██████████████████████████████████████████████████████████████████████████████████████████████████████████████████████████████████████████████████████████████████████████████████████████████| 227975/227975 [00:12<00:00, 18211.87it/s]\n"
     ]
    },
    {
     "data": {
      "text/plain": [
       "12710"
      ]
     },
     "execution_count": 47,
     "metadata": {},
     "output_type": "execute_result"
    }
   ],
   "source": [
    "counter = 0\n",
    "for _, row in tqdm(df.iterrows(), total=df.shape[0]):\n",
    "    curr = parse_annotation_to_text(row)\n",
    "    counter += curr\n",
    "counter"
   ]
  },
  {
   "cell_type": "code",
   "execution_count": 48,
   "id": "f4b8e603-a13e-4d79-b0a2-5ddfe9e083e0",
   "metadata": {},
   "outputs": [
    {
     "data": {
      "text/plain": [
       "0.055751727163066124"
      ]
     },
     "execution_count": 48,
     "metadata": {},
     "output_type": "execute_result"
    }
   ],
   "source": [
    "counter/df.shape[0]"
   ]
  }
 ],
 "metadata": {
  "kernelspec": {
   "display_name": "Python 3 (ipykernel)",
   "language": "python",
   "name": "python3"
  },
  "language_info": {
   "codemirror_mode": {
    "name": "ipython",
    "version": 3
   },
   "file_extension": ".py",
   "mimetype": "text/x-python",
   "name": "python",
   "nbconvert_exporter": "python",
   "pygments_lexer": "ipython3",
   "version": "3.10.13"
  }
 },
 "nbformat": 4,
 "nbformat_minor": 5
}
