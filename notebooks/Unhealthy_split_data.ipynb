{
 "cells": [
  {
   "cell_type": "code",
   "execution_count": 2,
   "id": "39319e45-3425-4d32-b7c3-9a316ebe568e",
   "metadata": {},
   "outputs": [],
   "source": [
    "import pandas as pd\n",
    "from pathlib import Path"
   ]
  },
  {
   "cell_type": "code",
   "execution_count": 139,
   "id": "db564029-ae3e-4f0a-93dd-6d79be1b01cc",
   "metadata": {},
   "outputs": [],
   "source": [
    "data_dir = Path(\"../data/unhealthy\")\n",
    "full_dataset = data_dir / \"unhealthy_full.csv\"\n",
    "train_original = data_dir / \"train.csv\"\n",
    "val_original = data_dir / \"val.csv\"\n",
    "test_original = data_dir / \"test.csv\"\n",
    "\n",
    "train_final_path = data_dir / \"personalized/train.csv\"\n",
    "val_final_path = data_dir / \"personalized/val.csv\"\n",
    "test_final_path = data_dir / \"personalized/test.csv\""
   ]
  },
  {
   "cell_type": "code",
   "execution_count": 95,
   "id": "94441927-514b-4888-a44f-f66952207704",
   "metadata": {},
   "outputs": [
    {
     "data": {
      "text/plain": [
       "((227975, 12),\n",
       " Index(['_unit_id', 'comment', '_trust', '_worker_id', 'antagonize',\n",
       "        'condescending', 'dismissive', 'generalisation',\n",
       "        'generalisation_unfair', 'healthy', 'hostile', 'sarcastic'],\n",
       "       dtype='object'),\n",
       " Index(['_unit_id', '_trusted_judgments', 'comment', 'antagonize',\n",
       "        'antagonize:confidence', 'condescending', 'condescending:confidence',\n",
       "        'dismissive', 'dismissive:confidence', 'generalisation',\n",
       "        'generalisation:confidence', 'generalisation_unfair',\n",
       "        'generalisation_unfair:confidence', 'healthy', 'healthy:confidence',\n",
       "        'hostile', 'hostile:confidence', 'sarcastic', 'sarcastic:confidence'],\n",
       "       dtype='object'),\n",
       " (48909,))"
      ]
     },
     "execution_count": 95,
     "metadata": {},
     "output_type": "execute_result"
    }
   ],
   "source": [
    "full_df = pd.read_csv(full_dataset)\n",
    "train_or_df = pd.read_csv(train_original)\n",
    "val_or_df = pd.read_csv(val_original)\n",
    "test_or_df = pd.read_csv(test_original)\n",
    "full_df.shape, full_df.columns, train_or_df.columns, full_df[\"_unit_id\"].unique().shape"
   ]
  },
  {
   "cell_type": "code",
   "execution_count": 19,
   "id": "68acb668-f47a-4290-a906-18e97ebb1e35",
   "metadata": {},
   "outputs": [
    {
     "data": {
      "text/plain": [
       "(35503, 4427, 4425, 44355)"
      ]
     },
     "execution_count": 19,
     "metadata": {},
     "output_type": "execute_result"
    }
   ],
   "source": [
    "train_or_df.shape[0], val_or_df.shape[0], test_or_df.shape[0], train_or_df.shape[0] + val_or_df.shape[0] + test_or_df.shape[0]"
   ]
  },
  {
   "cell_type": "code",
   "execution_count": 20,
   "id": "7d138241-ce5c-4e92-87be-07c72986fa08",
   "metadata": {},
   "outputs": [
    {
     "data": {
      "text/plain": [
       "(44355, 12)"
      ]
     },
     "execution_count": 20,
     "metadata": {},
     "output_type": "execute_result"
    }
   ],
   "source": [
    "full_df.drop_duplicates(subset=[\"comment\"]).shape"
   ]
  },
  {
   "cell_type": "code",
   "execution_count": 21,
   "id": "1f76b28a-18fe-47ea-aa97-1e9adcd08679",
   "metadata": {},
   "outputs": [
    {
     "name": "stdout",
     "output_type": "stream",
     "text": [
      "35503 4427 4425\n",
      "44355\n",
      "44355\n",
      "44355\n"
     ]
    }
   ],
   "source": [
    "datasets = [train_or_df, val_or_df, test_or_df]\n",
    "t1 = datasets[0].drop_duplicates(subset=[\"comment\"])\n",
    "v1 = datasets[1].drop_duplicates(subset=[\"comment\"])\n",
    "d1 = datasets[2].drop_duplicates(subset=[\"comment\"])\n",
    "print(t1.shape[0], v1.shape[0], d1.shape[0])\n",
    "print(t1.shape[0] + v1.shape[0] + d1.shape[0])\n",
    "f = pd.concat([t1, v1, d1], axis=0)\n",
    "print(f.shape[0])\n",
    "print(f.drop_duplicates(subset=[\"comment\"]).shape[0])"
   ]
  },
  {
   "cell_type": "code",
   "execution_count": 26,
   "id": "5b136a53-c4ed-4b5e-a46f-86c5f9aa6e0d",
   "metadata": {},
   "outputs": [
    {
     "data": {
      "text/plain": [
       "((182772, 12), (22141, 12), (23062, 12))"
      ]
     },
     "execution_count": 26,
     "metadata": {},
     "output_type": "execute_result"
    }
   ],
   "source": [
    "train_texts = train_or_df[\"comment\"]\n",
    "test_texts = test_or_df[\"comment\"]\n",
    "val_texts = val_or_df[\"comment\"]\n",
    "new_train = full_df[full_df[\"comment\"].isin(train_texts)]\n",
    "new_test = full_df[full_df[\"comment\"].isin(test_texts)]\n",
    "new_val = full_df[full_df[\"comment\"].isin(val_texts)]\n",
    "\n",
    "new_train.shape, new_val.shape, new_test.shape"
   ]
  },
  {
   "cell_type": "code",
   "execution_count": 125,
   "id": "2dea601f-7606-4201-81e4-be9526a6aa0c",
   "metadata": {},
   "outputs": [],
   "source": [
    "def check_users(train, test, dev):\n",
    "    train_users = train[\"_worker_id\"].unique()\n",
    "    dev_users = dev[\"_worker_id\"].unique()\n",
    "    test_users = test[\"_worker_id\"].unique()\n",
    "    print(\"sizes -\", \"train:\", train_users.shape, \"val:\", dev_users.shape, \"test:\", test_users.shape)\n",
    "    train_dev = (len(set(train_users) - set(dev_users)), len(set(dev_users) - set(train_users)))\n",
    "    train_test = (len(set(train_users) - set(test_users)), len(set(test_users) - set(train_users)))\n",
    "    test_dev = (len(set(test_users) - set(dev_users)), len(set(dev_users) - set(test_users)))\n",
    "    print(train_dev, train_test, test_dev)\n",
    "    print(set(train_users) - set(test_users))"
   ]
  },
  {
   "cell_type": "code",
   "execution_count": 126,
   "id": "955e8b02-2b90-4d39-a8f8-5bab784c322e",
   "metadata": {},
   "outputs": [
    {
     "name": "stdout",
     "output_type": "stream",
     "text": [
      "sizes - train: (588,) val: (538,) test: (547,)\n",
      "(50, 0) (41, 0) (32, 23)\n",
      "{32004236, 44525709, 44917645, 44133779, 43863574, 28813722, 28521374, 44316447, 23583649, 45173668, 44660135, 44621224, 44373931, 45312428, 44642735, 45288496, 44641336, 39942073, 44183354, 44576955, 44009147, 44624320, 44636227, 45212102, 43861190, 44064968, 45175505, 44638804, 44941271, 45304921, 44608861, 44559586, 44584806, 44599399, 44682089, 45009900, 44636401, 44114418, 44546678, 6713206, 44554623}\n"
     ]
    }
   ],
   "source": [
    "check_users(new_train, new_test, new_val)"
   ]
  },
  {
   "cell_type": "code",
   "execution_count": 127,
   "id": "7dbe2cd2-a3b8-4219-beb4-97a9eccaea12",
   "metadata": {},
   "outputs": [],
   "source": [
    "def clean_users(new_train, new_val, new_test):\n",
    "    in_test = new_train[new_train[\"_worker_id\"].isin(new_test[\"_worker_id\"])]\n",
    "    in_both = in_test[in_test[\"_worker_id\"].isin(new_val[\"_worker_id\"])]\n",
    "    dev_both = new_val[new_val[\"_worker_id\"].isin(in_both[\"_worker_id\"])]\n",
    "    test_both = new_test[new_test[\"_worker_id\"].isin(in_both[\"_worker_id\"])]\n",
    "    print(in_both.shape, dev_both.shape, test_both.shape)\n",
    "    return in_both, dev_both, test_both"
   ]
  },
  {
   "cell_type": "code",
   "execution_count": 128,
   "id": "65ddae2b-b328-4913-ba19-5693a2ea6652",
   "metadata": {},
   "outputs": [
    {
     "name": "stdout",
     "output_type": "stream",
     "text": [
      "(182153, 12) (22102, 12) (23009, 12)\n"
     ]
    }
   ],
   "source": [
    "in_both, dev_both, test_both = clean_users(new_train, new_val, new_test)"
   ]
  },
  {
   "cell_type": "code",
   "execution_count": 129,
   "id": "4ccd8b3c-a101-4739-b144-ddb239f3d75c",
   "metadata": {},
   "outputs": [
    {
     "name": "stdout",
     "output_type": "stream",
     "text": [
      "sizes - train: (515,) val: (515,) test: (515,)\n",
      "(0, 0) (0, 0) (0, 0)\n",
      "set()\n"
     ]
    }
   ],
   "source": [
    "check_users(in_both, test_both, dev_both)"
   ]
  },
  {
   "cell_type": "code",
   "execution_count": 133,
   "id": "89748a0d-d9c3-47fa-a311-0812cf5a5a05",
   "metadata": {},
   "outputs": [],
   "source": [
    "def average_annotation_per_user(df, crop=False):\n",
    "    annotation_number = df.groupby(by=[\"_worker_id\"]).count()[\"comment\"].sort_values()\n",
    "    print(\"head\")\n",
    "    print(annotation_number.head())\n",
    "    print(\"tail\")\n",
    "    print(annotation_number.tail())\n",
    "    mean = annotation_number.mean()\n",
    "    max = annotation_number.max()\n",
    "    min = annotation_number.min()\n",
    "    median = annotation_number.median()\n",
    "    (annotation_number/max).reset_index()[\"comment\"].plot()\n",
    "    all = df.shape[0]\n",
    "    upper_threshold = 0.6*max\n",
    "    lower_threshold = 0.05*max\n",
    "    curr_df = df\n",
    "    if crop:\n",
    "        print(curr_df.shape)\n",
    "        to_crop = []\n",
    "        for worker in df[\"_worker_id\"].unique():\n",
    "            if annotation_number[worker] < lower_threshold:\n",
    "                curr_df = curr_df[curr_df[\"_worker_id\"] != worker]\n",
    "            if annotation_number[worker] > upper_threshold:\n",
    "                to_crop.append(worker)\n",
    "        print(curr_df.shape)\n",
    "        for worker in to_crop:\n",
    "            crop_number = int(annotation_number[worker] - upper_threshold)\n",
    "            ann_to_drop = curr_df[curr_df[\"_worker_id\"] == worker].sample(n=crop_number)\n",
    "            curr_df = curr_df[~curr_df.isin(ann_to_drop)]        \n",
    "        print(curr_df.shape)\n",
    "    print(\"min:\", min, \"mean:\", mean, \"median:\", median ,\"max:\", max, \"all:\", all)\n",
    "    return curr_df.dropna()"
   ]
  },
  {
   "cell_type": "code",
   "execution_count": 143,
   "id": "78aec95e-e483-4f7b-a524-56164bcdf3fc",
   "metadata": {},
   "outputs": [],
   "source": [
    "def change_id_to_int(df):\n",
    "    df[\"_worker_id\"] = df[\"_worker_id\"].astype(int)\n",
    "    return df"
   ]
  },
  {
   "cell_type": "code",
   "execution_count": 144,
   "id": "63272ee0-0377-4059-abb5-e5fdfaae1204",
   "metadata": {},
   "outputs": [],
   "source": [
    "def analyze_annotations(train, dev, test, crop=False):\n",
    "    print('-'*10, 'check', \"-\"*10)\n",
    "    check_users(train, test, dev)\n",
    "    print('-'*10, 'clean', \"-\"*10)\n",
    "    in_both, dev_both, test_both = clean_users(train, dev, test)\n",
    "    print('-'*10, 'train', \"-\"*10)\n",
    "    crop_train = average_annotation_per_user(in_both, crop=crop)\n",
    "    print('-'*10, 'dev', \"-\"*10)\n",
    "    crop_dev = average_annotation_per_user(dev_both, crop=crop)\n",
    "    print('-'*10, 'test', \"-\"*10)\n",
    "    crop_test = average_annotation_per_user(test_both, crop=crop)\n",
    "    print('-'*10, 'check 2', \"-\"*10)\n",
    "    check_users(crop_train, crop_test, crop_dev)\n",
    "    print('-'*10, 'clean 2', \"-\"*10)\n",
    "    train_final, dev_final, test_final = clean_users(crop_train, crop_dev, crop_test)\n",
    "    print('-'*10, 'check 3', \"-\"*10)\n",
    "    check_users(train_final, test_final, dev_final)\n",
    "    train_final = change_id_to_int(train_final)\n",
    "    dev_final = change_id_to_int(dev_final)\n",
    "    test_final = change_id_to_int(test_final)\n",
    "    return train_final, dev_final, test_final"
   ]
  },
  {
   "cell_type": "code",
   "execution_count": 145,
   "id": "2919b91a-62d1-48a8-813d-73c9f17ca8af",
   "metadata": {},
   "outputs": [
    {
     "name": "stdout",
     "output_type": "stream",
     "text": [
      "---------- check ----------\n",
      "sizes - train: (588,) val: (538,) test: (547,)\n",
      "(50, 0) (41, 0) (32, 23)\n",
      "{32004236, 44525709, 44917645, 44133779, 43863574, 28813722, 28521374, 44316447, 23583649, 45173668, 44660135, 44621224, 44373931, 45312428, 44642735, 45288496, 44641336, 39942073, 44183354, 44576955, 44009147, 44624320, 44636227, 45212102, 43861190, 44064968, 45175505, 44638804, 44941271, 45304921, 44608861, 44559586, 44584806, 44599399, 44682089, 45009900, 44636401, 44114418, 44546678, 6713206, 44554623}\n",
      "---------- clean ----------\n",
      "(182153, 12) (22102, 12) (23009, 12)\n",
      "---------- train ----------\n",
      "head\n",
      "_worker_id\n",
      "45284349    2\n",
      "42260484    3\n",
      "38025156    4\n",
      "44156014    4\n",
      "45308208    4\n",
      "Name: comment, dtype: int64\n",
      "tail\n",
      "_worker_id\n",
      "44083576    1379\n",
      "26024737    1636\n",
      "33708599    1744\n",
      "20512953    1940\n",
      "20225558    2395\n",
      "Name: comment, dtype: int64\n",
      "(182153, 12)\n",
      "(173072, 12)\n",
      "(173072, 12)\n",
      "min: 2 mean: 353.6427184466019 median: 215.0 max: 2395 all: 182153\n",
      "---------- dev ----------\n",
      "head\n",
      "_worker_id\n",
      "45330038    1\n",
      "44807144    1\n",
      "44684667    1\n",
      "44640516    1\n",
      "25408325    1\n",
      "Name: comment, dtype: int64\n",
      "tail\n",
      "_worker_id\n",
      "44619566    179\n",
      "33708599    203\n",
      "26024737    220\n",
      "20512953    268\n",
      "20225558    271\n",
      "Name: comment, dtype: int64\n",
      "(22102, 12)\n",
      "(21074, 12)\n",
      "(21074, 12)\n",
      "min: 1 mean: 42.91650485436893 median: 24.0 max: 271 all: 22102\n",
      "---------- test ----------\n",
      "head\n",
      "_worker_id\n",
      "44587900    1\n",
      "44581408    1\n",
      "25408325    1\n",
      "38025156    1\n",
      "44405564    1\n",
      "Name: comment, dtype: int64\n",
      "tail\n",
      "_worker_id\n",
      "26024737    181\n",
      "34609243    182\n",
      "33708599    209\n",
      "20512953    238\n",
      "20225558    276\n",
      "Name: comment, dtype: int64\n",
      "(23009, 12)\n",
      "(21972, 12)\n",
      "(21972, 12)\n",
      "min: 1 mean: 44.67766990291262 median: 27.0 max: 276 all: 23009\n",
      "---------- check 2 ----------\n",
      "sizes - train: (319,) val: (324,) test: (323,)\n",
      "(8, 13) (8, 12) (12, 13)\n",
      "{44689729.0, 45325187.0, 44668516.0, 45328227.0, 44640569.0, 45204346.0, 45188318.0, 45189983.0}\n",
      "---------- clean 2 ----------\n",
      "(169374, 12) (20456, 12) (21406, 12)\n",
      "---------- check 3 ----------\n",
      "sizes - train: (307,) val: (307,) test: (307,)\n",
      "(0, 0) (0, 0) (0, 0)\n",
      "set()\n"
     ]
    },
    {
     "name": "stderr",
     "output_type": "stream",
     "text": [
      "/tmp/ipykernel_3818256/3809983943.py:2: SettingWithCopyWarning: \n",
      "A value is trying to be set on a copy of a slice from a DataFrame.\n",
      "Try using .loc[row_indexer,col_indexer] = value instead\n",
      "\n",
      "See the caveats in the documentation: https://pandas.pydata.org/pandas-docs/stable/user_guide/indexing.html#returning-a-view-versus-a-copy\n",
      "  df[\"_worker_id\"] = df[\"_worker_id\"].astype(int)\n",
      "/tmp/ipykernel_3818256/3809983943.py:2: SettingWithCopyWarning: \n",
      "A value is trying to be set on a copy of a slice from a DataFrame.\n",
      "Try using .loc[row_indexer,col_indexer] = value instead\n",
      "\n",
      "See the caveats in the documentation: https://pandas.pydata.org/pandas-docs/stable/user_guide/indexing.html#returning-a-view-versus-a-copy\n",
      "  df[\"_worker_id\"] = df[\"_worker_id\"].astype(int)\n"
     ]
    },
    {
     "data": {
      "image/png": "[encoded data removed]",
      "text/plain": [
       "<Figure size 640x480 with 1 Axes>"
      ]
     },
     "metadata": {},
     "output_type": "display_data"
    }
   ],
   "source": [
    "train_final, dev_final, test_final = analyze_annotations(new_train, new_val, new_test, crop=True)"
   ]
  },
  {
   "cell_type": "code",
   "execution_count": 146,
   "id": "b6a6d31a-d5ee-4b75-9c6e-235c49b54288",
   "metadata": {},
   "outputs": [
    {
     "name": "stdout",
     "output_type": "stream",
     "text": [
      "---------- check ----------\n",
      "sizes - train: (307,) val: (307,) test: (307,)\n",
      "(0, 0) (0, 0) (0, 0)\n",
      "set()\n",
      "---------- clean ----------\n",
      "(169374, 12) (20456, 12) (21406, 12)\n",
      "---------- train ----------\n",
      "head\n",
      "_worker_id\n",
      "44416732    120\n",
      "44856405    123\n",
      "45329986    131\n",
      "45319598    134\n",
      "45319546    138\n",
      "Name: comment, dtype: int64\n",
      "tail\n",
      "_worker_id\n",
      "44083576    1379\n",
      "20512953    1437\n",
      "33708599    1437\n",
      "26024737    1437\n",
      "20225558    1438\n",
      "Name: comment, dtype: int64\n",
      "min: 120 mean: 551.7068403908795 median: 513.0 max: 1438 all: 169374\n",
      "---------- dev ----------\n",
      "head\n",
      "_worker_id\n",
      "45312194    14\n",
      "45252554    14\n",
      "43754747    14\n",
      "45283567    15\n",
      "45319546    15\n",
      "Name: comment, dtype: int64\n",
      "tail\n",
      "_worker_id\n",
      "20225558    163\n",
      "19638651    163\n",
      "18960682    163\n",
      "33708599    163\n",
      "44619566    163\n",
      "Name: comment, dtype: int64\n",
      "min: 14 mean: 66.63192182410424 median: 64.0 max: 163 all: 20456\n",
      "---------- test ----------\n",
      "head\n",
      "_worker_id\n",
      "43402738    14\n",
      "45312438    15\n",
      "45325204    16\n",
      "45252554    16\n",
      "31410532    16\n",
      "Name: comment, dtype: int64\n",
      "tail\n",
      "_worker_id\n",
      "34609243    166\n",
      "18960682    166\n",
      "44619566    166\n",
      "26024737    166\n",
      "33708599    166\n",
      "Name: comment, dtype: int64\n",
      "min: 14 mean: 69.72638436482085 median: 73.0 max: 166 all: 21406\n",
      "---------- check 2 ----------\n",
      "sizes - train: (307,) val: (307,) test: (307,)\n",
      "(0, 0) (0, 0) (0, 0)\n",
      "set()\n",
      "---------- clean 2 ----------\n",
      "(169374, 12) (20456, 12) (21406, 12)\n",
      "---------- check 3 ----------\n",
      "sizes - train: (307,) val: (307,) test: (307,)\n",
      "(0, 0) (0, 0) (0, 0)\n",
      "set()\n"
     ]
    },
    {
     "data": {
      "image/png": "[encoded data removed]",
      "text/plain": [
       "<Figure size 640x480 with 1 Axes>"
      ]
     },
     "metadata": {},
     "output_type": "display_data"
    }
   ],
   "source": [
    "_ = analyze_annotations(train_final, dev_final, test_final, crop=False)"
   ]
  },
  {
   "cell_type": "code",
   "execution_count": 147,
   "id": "7ebd2980-6541-4915-b3ae-4f937e351569",
   "metadata": {},
   "outputs": [],
   "source": [
    "train_final.to_csv(train_final_path, index=False)\n",
    "dev_final.to_csv(val_final_path, index=False)\n",
    "test_final.to_csv(test_final_path, index=False)"
   ]
  },
  {
   "cell_type": "code",
   "execution_count": null,
   "id": "78b738f9-7b73-40ca-b8af-f956decf73b1",
   "metadata": {},
   "outputs": [],
   "source": []
  }
 ],
 "metadata": {
  "kernelspec": {
   "display_name": "Python 3 (ipykernel)",
   "language": "python",
   "name": "python3"
  },
  "language_info": {
   "codemirror_mode": {
    "name": "ipython",
    "version": 3
   },
   "file_extension": ".py",
   "mimetype": "text/x-python",
   "name": "python",
   "nbconvert_exporter": "python",
   "pygments_lexer": "ipython3",
   "version": "3.10.13"
  }
 },
 "nbformat": 4,
 "nbformat_minor": 5
}
