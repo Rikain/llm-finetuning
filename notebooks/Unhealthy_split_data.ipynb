{
 "cells": [
  {
   "cell_type": "code",
   "execution_count": 1,
   "id": "39319e45-3425-4d32-b7c3-9a316ebe568e",
   "metadata": {},
   "outputs": [],
   "source": [
    "import pandas as pd\n",
    "from pathlib import Path"
   ]
  },
  {
   "cell_type": "code",
   "execution_count": 2,
   "id": "db564029-ae3e-4f0a-93dd-6d79be1b01cc",
   "metadata": {},
   "outputs": [],
   "source": [
    "data_dir = Path(\"../data/unhealthy\")\n",
    "full_dataset = data_dir / \"unhealthy_full.csv\"\n",
    "train_original = data_dir / \"aggregated/train.csv\"\n",
    "val_original = data_dir / \"aggregated/val.csv\"\n",
    "test_original = data_dir / \"aggregated/test.csv\"\n",
    "\n",
    "train_final_path = data_dir / \"train.csv\"\n",
    "val_final_path = data_dir / \"val.csv\"\n",
    "test_final_path = data_dir / \"test.csv\""
   ]
  },
  {
   "cell_type": "code",
   "execution_count": 3,
   "id": "94441927-514b-4888-a44f-f66952207704",
   "metadata": {},
   "outputs": [
    {
     "data": {
      "text/plain": [
       "((227975, 12),\n",
       " Index(['_unit_id', 'comment', '_trust', '_worker_id', 'antagonize',\n",
       "        'condescending', 'dismissive', 'generalisation',\n",
       "        'generalisation_unfair', 'healthy', 'hostile', 'sarcastic'],\n",
       "       dtype='object'),\n",
       " Index(['_unit_id', '_trusted_judgments', 'comment', 'antagonize',\n",
       "        'antagonize:confidence', 'condescending', 'condescending:confidence',\n",
       "        'dismissive', 'dismissive:confidence', 'generalisation',\n",
       "        'generalisation:confidence', 'generalisation_unfair',\n",
       "        'generalisation_unfair:confidence', 'healthy', 'healthy:confidence',\n",
       "        'hostile', 'hostile:confidence', 'sarcastic', 'sarcastic:confidence'],\n",
       "       dtype='object'),\n",
       " (48909,))"
      ]
     },
     "execution_count": 3,
     "metadata": {},
     "output_type": "execute_result"
    }
   ],
   "source": [
    "full_df = pd.read_csv(full_dataset)\n",
    "train_or_df = pd.read_csv(train_original)\n",
    "val_or_df = pd.read_csv(val_original)\n",
    "test_or_df = pd.read_csv(test_original)\n",
    "full_df.shape, full_df.columns, train_or_df.columns, full_df[\"_unit_id\"].unique().shape"
   ]
  },
  {
   "cell_type": "code",
   "execution_count": 4,
   "id": "68acb668-f47a-4290-a906-18e97ebb1e35",
   "metadata": {},
   "outputs": [
    {
     "data": {
      "text/plain": [
       "(35503, 4427, 4425, 44355)"
      ]
     },
     "execution_count": 4,
     "metadata": {},
     "output_type": "execute_result"
    }
   ],
   "source": [
    "train_or_df.shape[0], val_or_df.shape[0], test_or_df.shape[0], train_or_df.shape[0] + val_or_df.shape[0] + test_or_df.shape[0]"
   ]
  },
  {
   "cell_type": "code",
   "execution_count": 5,
   "id": "7d138241-ce5c-4e92-87be-07c72986fa08",
   "metadata": {},
   "outputs": [
    {
     "data": {
      "text/plain": [
       "(44355, 12)"
      ]
     },
     "execution_count": 5,
     "metadata": {},
     "output_type": "execute_result"
    }
   ],
   "source": [
    "full_df.drop_duplicates(subset=[\"comment\"]).shape"
   ]
  },
  {
   "cell_type": "code",
   "execution_count": 6,
   "id": "1f76b28a-18fe-47ea-aa97-1e9adcd08679",
   "metadata": {},
   "outputs": [
    {
     "name": "stdout",
     "output_type": "stream",
     "text": [
      "35503 4427 4425\n",
      "44355\n",
      "44355\n",
      "44355\n"
     ]
    }
   ],
   "source": [
    "datasets = [train_or_df, val_or_df, test_or_df]\n",
    "t1 = datasets[0].drop_duplicates(subset=[\"comment\"])\n",
    "v1 = datasets[1].drop_duplicates(subset=[\"comment\"])\n",
    "d1 = datasets[2].drop_duplicates(subset=[\"comment\"])\n",
    "print(t1.shape[0], v1.shape[0], d1.shape[0])\n",
    "print(t1.shape[0] + v1.shape[0] + d1.shape[0])\n",
    "f = pd.concat([t1, v1, d1], axis=0)\n",
    "print(f.shape[0])\n",
    "print(f.drop_duplicates(subset=[\"comment\"]).shape[0])"
   ]
  },
  {
   "cell_type": "code",
   "execution_count": 7,
   "id": "f67ba403-0aab-4830-bcde-addb8d880ef2",
   "metadata": {},
   "outputs": [],
   "source": [
    "def clean_empty_annotations(df):\n",
    "    \n",
    "    label_columns = sorted([\n",
    "        \"antagonize\", \"condescending\" , \"dismissive\", \"generalisation\",\n",
    "        \"generalisation_unfair\", \"healthy\", \"hostile\", \"sarcastic\"\n",
    "    ])\n",
    "    def is_empty(sample):\n",
    "        sum_ = sum([sample[label] for label in label_columns])\n",
    "        empty = False\n",
    "        if sum_ == 0:\n",
    "            empty = True\n",
    "        return empty\n",
    "\n",
    "    df[\"empty\"] = df.apply(is_empty, axis=1)\n",
    "    df = df[~df[\"empty\"]]\n",
    "    return df.drop(columns=[\"empty\"])\n",
    "    "
   ]
  },
  {
   "cell_type": "code",
   "execution_count": 8,
   "id": "7d968bbc-9ff8-46a7-a5a1-e75ec5bcc1bc",
   "metadata": {},
   "outputs": [
    {
     "data": {
      "text/plain": [
       "(215265, 12)"
      ]
     },
     "execution_count": 8,
     "metadata": {},
     "output_type": "execute_result"
    }
   ],
   "source": [
    "full_df = clean_empty_annotations(full_df)\n",
    "full_df.shape"
   ]
  },
  {
   "cell_type": "code",
   "execution_count": 9,
   "id": "5b136a53-c4ed-4b5e-a46f-86c5f9aa6e0d",
   "metadata": {},
   "outputs": [
    {
     "data": {
      "text/plain": [
       "((172550, 12), (20893, 12), (21822, 12))"
      ]
     },
     "execution_count": 9,
     "metadata": {},
     "output_type": "execute_result"
    }
   ],
   "source": [
    "train_texts = train_or_df[\"comment\"]\n",
    "test_texts = test_or_df[\"comment\"]\n",
    "val_texts = val_or_df[\"comment\"]\n",
    "new_train = full_df[full_df[\"comment\"].isin(train_texts)]\n",
    "new_test = full_df[full_df[\"comment\"].isin(test_texts)]\n",
    "new_val = full_df[full_df[\"comment\"].isin(val_texts)]\n",
    "\n",
    "new_train.shape, new_val.shape, new_test.shape"
   ]
  },
  {
   "cell_type": "code",
   "execution_count": 10,
   "id": "2dea601f-7606-4201-81e4-be9526a6aa0c",
   "metadata": {},
   "outputs": [],
   "source": [
    "def check_users(train, test, dev):\n",
    "    train_users = train[\"_worker_id\"].unique()\n",
    "    dev_users = dev[\"_worker_id\"].unique()\n",
    "    test_users = test[\"_worker_id\"].unique()\n",
    "    print(\"sizes -\", \"train:\", train_users.shape, \"val:\", dev_users.shape, \"test:\", test_users.shape)\n",
    "    train_dev = (len(set(train_users) - set(dev_users)), len(set(dev_users) - set(train_users)))\n",
    "    train_test = (len(set(train_users) - set(test_users)), len(set(test_users) - set(train_users)))\n",
    "    test_dev = (len(set(test_users) - set(dev_users)), len(set(dev_users) - set(test_users)))\n",
    "    print(train_dev, train_test, test_dev)\n",
    "    print(set(train_users) - set(test_users))"
   ]
  },
  {
   "cell_type": "code",
   "execution_count": 11,
   "id": "955e8b02-2b90-4d39-a8f8-5bab784c322e",
   "metadata": {},
   "outputs": [
    {
     "name": "stdout",
     "output_type": "stream",
     "text": [
      "sizes - train: (588,) val: (535,) test: (544,)\n",
      "(53, 0) (44, 0) (34, 25)\n",
      "{32004236, 44525709, 44917645, 44133779, 43863574, 28813722, 28521374, 44316447, 23583649, 45173668, 44660135, 44621224, 44373931, 45312428, 44642735, 45288496, 44641336, 39942073, 44183354, 44576955, 44009147, 44879933, 44624320, 44636227, 45212102, 43861190, 44064968, 45175505, 44638804, 44941271, 45304921, 44608861, 45230560, 44559586, 44584806, 44599399, 44682089, 45009900, 44685039, 44636401, 44114418, 44546678, 6713206, 44554623}\n"
     ]
    }
   ],
   "source": [
    "check_users(new_train, new_test, new_val)"
   ]
  },
  {
   "cell_type": "code",
   "execution_count": 12,
   "id": "7dbe2cd2-a3b8-4219-beb4-97a9eccaea12",
   "metadata": {},
   "outputs": [],
   "source": [
    "def clean_users(new_train, new_val, new_test):\n",
    "    in_test = new_train[new_train[\"_worker_id\"].isin(new_test[\"_worker_id\"])]\n",
    "    in_both = in_test[in_test[\"_worker_id\"].isin(new_val[\"_worker_id\"])]\n",
    "    dev_both = new_val[new_val[\"_worker_id\"].isin(in_both[\"_worker_id\"])]\n",
    "    test_both = new_test[new_test[\"_worker_id\"].isin(in_both[\"_worker_id\"])]\n",
    "    print(in_both.shape, dev_both.shape, test_both.shape)\n",
    "    return in_both, dev_both, test_both"
   ]
  },
  {
   "cell_type": "code",
   "execution_count": 13,
   "id": "65ddae2b-b328-4913-ba19-5693a2ea6652",
   "metadata": {},
   "outputs": [
    {
     "name": "stdout",
     "output_type": "stream",
     "text": [
      "(171873, 12) (20847, 12) (21765, 12)\n"
     ]
    }
   ],
   "source": [
    "in_both, dev_both, test_both = clean_users(new_train, new_val, new_test)"
   ]
  },
  {
   "cell_type": "code",
   "execution_count": 14,
   "id": "4ccd8b3c-a101-4739-b144-ddb239f3d75c",
   "metadata": {},
   "outputs": [
    {
     "name": "stdout",
     "output_type": "stream",
     "text": [
      "sizes - train: (510,) val: (510,) test: (510,)\n",
      "(0, 0) (0, 0) (0, 0)\n",
      "set()\n"
     ]
    }
   ],
   "source": [
    "check_users(in_both, test_both, dev_both)"
   ]
  },
  {
   "cell_type": "code",
   "execution_count": 21,
   "id": "89748a0d-d9c3-47fa-a311-0812cf5a5a05",
   "metadata": {},
   "outputs": [],
   "source": [
    "def average_annotation_per_user(df, crop=False):\n",
    "    annotation_number = df.groupby(by=[\"_worker_id\"]).count()[\"comment\"].sort_values()\n",
    "    print(\"annotator head\")\n",
    "    print(annotation_number.head())\n",
    "    print(\"annotator tail\")\n",
    "    print(annotation_number.tail())\n",
    "    mean = annotation_number.mean()\n",
    "    max = annotation_number.max()\n",
    "    min = annotation_number.min()\n",
    "    median = annotation_number.median()\n",
    "    (annotation_number/max).reset_index()[\"comment\"].plot()\n",
    "    all = df.shape[0]\n",
    "    upper_threshold = 0.6*max\n",
    "    lower_threshold = 0.01*max\n",
    "    print(\"ANNOTATORS\")\n",
    "    print(\"min:\", min, \"mean:\", mean, \"median:\", median ,\"max:\", max, \"all:\", all)\n",
    "    text_number = df.groupby(by=[\"comment\"]).count()[\"_worker_id\"].sort_values()\n",
    "    print(\"text head\")\n",
    "    print(text_number.head())\n",
    "    print(\"text tail\")\n",
    "    print(text_number.tail())\n",
    "    mean = text_number.mean()\n",
    "    max = text_number.max()\n",
    "    min = text_number.min()\n",
    "    median = text_number.median()\n",
    "    (text_number/max).reset_index()[\"_worker_id\"].plot()\n",
    "    all = df.shape[0]\n",
    "    print(\"TEXTS\")\n",
    "    print(\"min:\", min, \"mean:\", mean, \"median:\", median ,\"max:\", max, \"all:\", all)    \n",
    "    curr_df = df\n",
    "    if crop:\n",
    "        print(\"cropping...\")\n",
    "        print(curr_df.shape)\n",
    "        to_crop = []\n",
    "        for worker in df[\"_worker_id\"].unique():\n",
    "            if annotation_number[worker] < lower_threshold:\n",
    "                curr_df = curr_df[curr_df[\"_worker_id\"] != worker]\n",
    "            if annotation_number[worker] > upper_threshold:\n",
    "                to_crop.append(worker)\n",
    "        print(\"after lower crop, before upper\")\n",
    "        print(curr_df.shape)\n",
    "        for worker in to_crop:\n",
    "            crop_number = int(annotation_number[worker] - upper_threshold)\n",
    "            ann_to_drop = curr_df[curr_df[\"_worker_id\"] == worker].sample(n=crop_number)\n",
    "            anns = pd.merge(curr_df, ann_to_drop, how=\"outer\", indicator=True)\n",
    "            curr_df = anns[anns[\"_merge\"] == \"left_only\"].drop(columns=[\"_merge\"], axis=1)\n",
    "        print(\"cropping finished...\")\n",
    "        print(curr_df.shape)\n",
    "    return curr_df.dropna()"
   ]
  },
  {
   "cell_type": "code",
   "execution_count": 22,
   "id": "78aec95e-e483-4f7b-a524-56164bcdf3fc",
   "metadata": {},
   "outputs": [],
   "source": [
    "def change_id_to_int(df):\n",
    "    df[\"_worker_id\"] = df[\"_worker_id\"].astype(int)\n",
    "    return df"
   ]
  },
  {
   "cell_type": "code",
   "execution_count": 23,
   "id": "63272ee0-0377-4059-abb5-e5fdfaae1204",
   "metadata": {},
   "outputs": [],
   "source": [
    "def analyze_annotations(train, dev, test, crop=False):\n",
    "    print('-'*10, 'check', \"-\"*10)\n",
    "    check_users(train, test, dev)\n",
    "    print('-'*10, 'clean', \"-\"*10)\n",
    "    in_both, dev_both, test_both = clean_users(train, dev, test)\n",
    "    print('-'*10, 'train', \"-\"*10)\n",
    "    crop_train = average_annotation_per_user(in_both, crop=crop)\n",
    "    print('-'*10, 'dev', \"-\"*10)\n",
    "    crop_dev = average_annotation_per_user(dev_both, crop=crop)\n",
    "    print('-'*10, 'test', \"-\"*10)\n",
    "    crop_test = average_annotation_per_user(test_both, crop=crop)\n",
    "    print('-'*10, 'check 2', \"-\"*10)\n",
    "    check_users(crop_train, crop_test, crop_dev)\n",
    "    print('-'*10, 'clean 2', \"-\"*10)\n",
    "    train_final, dev_final, test_final = clean_users(crop_train, crop_dev, crop_test)\n",
    "    print('-'*10, 'check 3', \"-\"*10)\n",
    "    check_users(train_final, test_final, dev_final)\n",
    "    train_final = change_id_to_int(train_final)\n",
    "    dev_final = change_id_to_int(dev_final)\n",
    "    test_final = change_id_to_int(test_final)\n",
    "    return train_final, dev_final, test_final"
   ]
  },
  {
   "cell_type": "code",
   "execution_count": 24,
   "id": "2919b91a-62d1-48a8-813d-73c9f17ca8af",
   "metadata": {},
   "outputs": [
    {
     "name": "stdout",
     "output_type": "stream",
     "text": [
      "---------- check ----------\n",
      "sizes - train: (588,) val: (535,) test: (544,)\n",
      "(53, 0) (44, 0) (34, 25)\n",
      "{32004236, 44525709, 44917645, 44133779, 43863574, 28813722, 28521374, 44316447, 23583649, 45173668, 44660135, 44621224, 44373931, 45312428, 44642735, 45288496, 44641336, 39942073, 44183354, 44576955, 44009147, 44879933, 44624320, 44636227, 45212102, 43861190, 44064968, 45175505, 44638804, 44941271, 45304921, 44608861, 45230560, 44559586, 44584806, 44599399, 44682089, 45009900, 44685039, 44636401, 44114418, 44546678, 6713206, 44554623}\n",
      "---------- clean ----------\n",
      "(171873, 12) (20847, 12) (21765, 12)\n",
      "---------- train ----------\n",
      "annotator head\n",
      "_worker_id\n",
      "45284349    2\n",
      "42260484    3\n",
      "45308208    3\n",
      "38025156    4\n",
      "44156014    4\n",
      "Name: comment, dtype: int64\n",
      "annotator tail\n",
      "_worker_id\n",
      "44083576    1375\n",
      "26024737    1583\n",
      "33708599    1730\n",
      "20512953    1938\n",
      "20225558    2382\n",
      "Name: comment, dtype: int64\n",
      "ANNOTATORS\n",
      "min: 2 mean: 336.956862745098 median: 199.0 max: 2382 all: 171873\n",
      "text head\n",
      "comment\n",
      "Sheep is not a troll. He/she truly believes in his/her postings.                                                                                                                                               1\n",
      "Earlier this summer Happer came out with this gem in an interview: 'The demonization of carbon dioxide is just like the demonization of the poor Jews under Hitler.'Sadly, there is no cure for emerititus.    1\n",
      "Hangdog: the base doesn't need facts, evidence or the rule of law to make it's decisions.                                                                                                                      1\n",
      "Why fight it? Being around beautiful women is one of life's pleasures.                                                                                                                                         1\n",
      "There are no seperate issues.                                                                                                                                                                                  1\n",
      "Name: _worker_id, dtype: int64\n",
      "text tail\n",
      "comment\n",
      "Literally the dumbest shit I've read in decades.                             214\n",
      "That's too ignorant to be worthy of a real answer.                           231\n",
      "Perhaps this young man should have stayed in Syria. Where it is safe!!!!!    232\n",
      "Neanderthals from Alberta is redundant. Just say Albertans.                  247\n",
      "you are a closet idiot                                                       249\n",
      "Name: _worker_id, dtype: int64\n",
      "TEXTS\n",
      "min: 1 mean: 4.842562064981543 median: 3.0 max: 249 all: 171873\n",
      "cropping...\n",
      "(171873, 12)\n",
      "after lower crop, before upper\n",
      "(171058, 12)\n",
      "cropping finished...\n",
      "(169141, 12)\n",
      "---------- dev ----------\n",
      "annotator head\n",
      "_worker_id\n",
      "45330038    1\n",
      "44640516    1\n",
      "25408325    1\n",
      "44619412    1\n",
      "44619104    1\n",
      "Name: comment, dtype: int64\n",
      "annotator tail\n",
      "_worker_id\n",
      "18960682    164\n",
      "33708599    203\n",
      "26024737    209\n",
      "20512953    267\n",
      "20225558    269\n",
      "Name: comment, dtype: int64\n",
      "ANNOTATORS\n",
      "min: 1 mean: 40.87647058823529 median: 22.0 max: 269 all: 20847\n",
      "text head\n",
      "comment\n",
      "In Scotland, the minimum election voting age is 18. This was a referendum, not an election, and the minimum age was lowered to 16.                                                                                                  1\n",
      "From what I've read of the comments, this article is so dis-credited that the G & M ought to pull it.                                                                                                                               1\n",
      "The Americans get it. The EU gets it. Canada? Not so much. Nobody cares what's happening to our research and higher education except the people who work in it. It's really a sad state of affairs. Ignorance is bliss, I guess.    2\n",
      "http://www.newyorker.com/news/daily-comment/pope-francis-and-the-dirty-war                                                                                                                                                          2\n",
      "Actually, they rent it for 6 months. Then parliament addresses whether or not to stay involved, and the new decision gets new ownership.                                                                                            2\n",
      "Name: _worker_id, dtype: int64\n",
      "text tail\n",
      "comment\n",
      "Well, aren’t we just a ray of frigging sunshine.                                                                                                 198\n",
      "Some cancers will be triggered to grow rapidly and out of control if they aren't completely removed.                                             205\n",
      "The bias and attempt at social engineering of the mainstream media represents a greater onslaught on the democratic process than social media    207\n",
      "You're a cockroach. look sharp                                                                                                                   210\n",
      "Yeah no shit, but the point is you'll be an insufferable pseud homosexual if you say it that way when speaking English                           213\n",
      "Name: _worker_id, dtype: int64\n",
      "TEXTS\n",
      "min: 1 mean: 4.711186440677966 median: 3.0 max: 213 all: 20847\n",
      "cropping...\n",
      "(20847, 12)\n",
      "after lower crop, before upper\n",
      "(20770, 12)\n",
      "cropping finished...\n",
      "(20461, 12)\n",
      "---------- test ----------\n",
      "annotator head\n",
      "_worker_id\n",
      "25408325    1\n",
      "44619412    1\n",
      "44619104    1\n",
      "44587900    1\n",
      "44581408    1\n",
      "Name: comment, dtype: int64\n",
      "annotator tail\n",
      "_worker_id\n",
      "18960682    181\n",
      "34609243    182\n",
      "33708599    208\n",
      "20512953    238\n",
      "20225558    273\n",
      "Name: comment, dtype: int64\n",
      "ANNOTATORS\n",
      "min: 1 mean: 42.6764705882353 median: 25.0 max: 273 all: 21765\n",
      "text head\n",
      "comment\n",
      "Belinda Stronach?                                                                                                 1\n",
      "geez, louise - give the guy a chance.                                                                             1\n",
      "alumni. ucla.edu/share/alumni-stories/stories/mayim-bialik.aspx Balik is a real life neuro-biologist.             2\n",
      "Steve - why do you hate the environment so much?                                                                  2\n",
      "Is vengeance not deserved? If this was your wife, daughter, son, father, ect.....would you not want vengeance?    2\n",
      "Name: _worker_id, dtype: int64\n",
      "text tail\n",
      "comment\n",
      "Everything? That is a huge statement when we are talking about a narrow issue.                     197\n",
      "I'd rather be me, than an ugly depressed manlet.                                                   201\n",
      "A WHOLE paragraph of NOTHING.......... I just wasted 15 seconds of my life reading your garbage    202\n",
      "The problem is that even just 5% of doctors quit, the effects would be devastating.                204\n",
      "Did you read the article? Can you read and comprehend?                                             270\n",
      "Name: _worker_id, dtype: int64\n",
      "TEXTS\n",
      "min: 1 mean: 4.923094322551459 median: 3.0 max: 270 all: 21765\n",
      "cropping...\n",
      "(21765, 12)\n",
      "after lower crop, before upper\n",
      "(21679, 12)\n",
      "cropping finished...\n",
      "(21386, 12)\n",
      "---------- check 2 ----------\n",
      "sizes - train: (445,) val: (453,) test: (452,)\n",
      "(9, 17) (13, 20) (17, 18)\n",
      "{45136546, 41193378, 5814726, 43584008, 45293674, 44935281, 39865363, 45213652, 44185847, 43869336, 44293177, 35697114, 31201051}\n",
      "---------- clean 2 ----------\n",
      "(168506, 12) (20353, 12) (21287, 12)\n",
      "---------- check 3 ----------\n",
      "sizes - train: (427,) val: (427,) test: (427,)\n",
      "(0, 0) (0, 0) (0, 0)\n",
      "set()\n"
     ]
    },
    {
     "name": "stderr",
     "output_type": "stream",
     "text": [
      "/tmp/ipykernel_2833952/3809983943.py:2: SettingWithCopyWarning: \n",
      "A value is trying to be set on a copy of a slice from a DataFrame.\n",
      "Try using .loc[row_indexer,col_indexer] = value instead\n",
      "\n",
      "See the caveats in the documentation: https://pandas.pydata.org/pandas-docs/stable/user_guide/indexing.html#returning-a-view-versus-a-copy\n",
      "  df[\"_worker_id\"] = df[\"_worker_id\"].astype(int)\n",
      "/tmp/ipykernel_2833952/3809983943.py:2: SettingWithCopyWarning: \n",
      "A value is trying to be set on a copy of a slice from a DataFrame.\n",
      "Try using .loc[row_indexer,col_indexer] = value instead\n",
      "\n",
      "See the caveats in the documentation: https://pandas.pydata.org/pandas-docs/stable/user_guide/indexing.html#returning-a-view-versus-a-copy\n",
      "  df[\"_worker_id\"] = df[\"_worker_id\"].astype(int)\n"
     ]
    },
    {
     "data": {
      "image/png": "[encoded data removed]",
      "text/plain": [
       "<Figure size 640x480 with 1 Axes>"
      ]
     },
     "metadata": {},
     "output_type": "display_data"
    }
   ],
   "source": [
    "train_final, dev_final, test_final = analyze_annotations(new_train, new_val, new_test, crop=True)"
   ]
  },
  {
   "cell_type": "code",
   "execution_count": 19,
   "id": "b6a6d31a-d5ee-4b75-9c6e-235c49b54288",
   "metadata": {},
   "outputs": [
    {
     "name": "stdout",
     "output_type": "stream",
     "text": [
      "---------- check ----------\n",
      "sizes - train: (295,) val: (295,) test: (295,)\n",
      "(0, 0) (0, 0) (0, 0)\n",
      "set()\n",
      "---------- clean ----------\n",
      "(158678, 12) (19216, 12) (20112, 12)\n",
      "---------- train ----------\n",
      "head\n",
      "_worker_id\n",
      "45319598    126\n",
      "45329986    131\n",
      "45319546    135\n",
      "45205782    136\n",
      "45312438    138\n",
      "Name: comment, dtype: int64\n",
      "tail\n",
      "_worker_id\n",
      "44083576    1375\n",
      "26024737    1430\n",
      "33708599    1430\n",
      "20512953    1430\n",
      "20225558    1431\n",
      "Name: comment, dtype: int64\n",
      "min: 126 mean: 537.8915254237288 median: 474.0 max: 1431 all: 158678\n",
      "---------- dev ----------\n",
      "head\n",
      "_worker_id\n",
      "45250170    14\n",
      "45319546    14\n",
      "45277819    14\n",
      "45252554    14\n",
      "43754747    14\n",
      "Name: comment, dtype: int64\n",
      "tail\n",
      "_worker_id\n",
      "20225558    162\n",
      "19638651    162\n",
      "44083576    162\n",
      "18960682    162\n",
      "26024737    162\n",
      "Name: comment, dtype: int64\n",
      "min: 14 mean: 65.13898305084746 median: 58.0 max: 162 all: 19216\n",
      "---------- test ----------\n",
      "head\n",
      "_worker_id\n",
      "45312438    15\n",
      "38399674    16\n",
      "31410532    16\n",
      "44649555    16\n",
      "45252554    16\n",
      "Name: comment, dtype: int64\n",
      "tail\n",
      "_worker_id\n",
      "19638651    164\n",
      "33708599    164\n",
      "18960682    164\n",
      "34609243    164\n",
      "26024737    164\n",
      "Name: comment, dtype: int64\n",
      "min: 15 mean: 68.17627118644067 median: 63.0 max: 164 all: 20112\n",
      "---------- check 2 ----------\n",
      "sizes - train: (295,) val: (295,) test: (295,)\n",
      "(0, 0) (0, 0) (0, 0)\n",
      "set()\n",
      "---------- clean 2 ----------\n",
      "(158678, 12) (19216, 12) (20112, 12)\n",
      "---------- check 3 ----------\n",
      "sizes - train: (295,) val: (295,) test: (295,)\n",
      "(0, 0) (0, 0) (0, 0)\n",
      "set()\n"
     ]
    },
    {
     "data": {
      "image/png": "[encoded data removed]",
      "text/plain": [
       "<Figure size 640x480 with 1 Axes>"
      ]
     },
     "metadata": {},
     "output_type": "display_data"
    }
   ],
   "source": [
    "_ = analyze_annotations(train_final, dev_final, test_final, crop=False)"
   ]
  },
  {
   "cell_type": "code",
   "execution_count": 20,
   "id": "7ebd2980-6541-4915-b3ae-4f937e351569",
   "metadata": {},
   "outputs": [],
   "source": [
    "train_final.to_csv(train_final_path, index=False)\n",
    "dev_final.to_csv(val_final_path, index=False)\n",
    "test_final.to_csv(test_final_path, index=False)"
   ]
  },
  {
   "cell_type": "code",
   "execution_count": null,
   "id": "78b738f9-7b73-40ca-b8af-f956decf73b1",
   "metadata": {},
   "outputs": [],
   "source": []
  }
 ],
 "metadata": {
  "kernelspec": {
   "display_name": "Python 3 (ipykernel)",
   "language": "python",
   "name": "python3"
  },
  "language_info": {
   "codemirror_mode": {
    "name": "ipython",
    "version": 3
   },
   "file_extension": ".py",
   "mimetype": "text/x-python",
   "name": "python",
   "nbconvert_exporter": "python",
   "pygments_lexer": "ipython3",
   "version": "3.10.13"
  }
 },
 "nbformat": 4,
 "nbformat_minor": 5
}
