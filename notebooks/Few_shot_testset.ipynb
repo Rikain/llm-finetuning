{
 "cells": [
  {
   "cell_type": "code",
   "execution_count": 1,
   "id": "0e09e8be-6997-4458-97fb-395ebbd06b2b",
   "metadata": {},
   "outputs": [],
   "source": [
    "import pandas as pd\n",
    "from pathlib import Path\n",
    "from tqdm import tqdm"
   ]
  },
  {
   "cell_type": "code",
   "execution_count": 2,
   "id": "91f55ff6-e8fd-455b-8648-4b90126298b3",
   "metadata": {},
   "outputs": [
    {
     "data": {
      "text/plain": [
       "(325339, 10)"
      ]
     },
     "execution_count": 2,
     "metadata": {},
     "output_type": "execute_result"
    }
   ],
   "source": [
    "dirpath = Path(\"../data\")\n",
    "dataset = \"aggression\"\n",
    "filepath = dirpath / dataset / \"test.csv\"\n",
    "df = pd.read_csv(filepath)\n",
    "df.shape"
   ]
  },
  {
   "cell_type": "code",
   "execution_count": 3,
   "id": "017b3274-9dc4-444c-aa47-875b516b7916",
   "metadata": {},
   "outputs": [],
   "source": [
    "def get_columns(dataset):\n",
    "    if dataset == \"go_emo\":\n",
    "        return sorted([\n",
    "            'admiration','amusement', 'anger', 'annoyance', 'approval', 'caring',\n",
    "            'confusion', 'curiosity', 'desire', 'disappointment', 'disapproval',\n",
    "            'disgust', 'embarrassment', 'excitement', 'fear', 'gratitude', 'grief',\n",
    "            'joy', 'love', 'nervousness', 'optimism', 'pride', 'realization', 'relief',\n",
    "            'remorse', 'sadness', 'surprise', 'neutral'\n",
    "        ]), \"rater_id\", \"text\"\n",
    "    if dataset == \"unhealthy\":\n",
    "        return sorted([\n",
    "            \"antagonize\", \"condescending\" , \"dismissive\", \"generalisation\",\n",
    "            \"generalisation_unfair\", \"healthy\", \"hostile\", \"sarcastic\"\n",
    "        ]), \"_worker_id\", \"comment\"\n",
    "    if dataset == \"docanno\":\n",
    "        return sorted([\n",
    "            'inspiring', 'interesting', 'offensive_to_someone', 'negative',\n",
    "            'offensive_to_me', 'political', 'positive', 'sadness', 'calm',\n",
    "            'fear', 'compassion', 'disgust', 'vulgar', 'surprise', 'embarrasing',\n",
    "            'anger', 'understandable', 'ironic', 'need_more_information',\n",
    "            'happiness', 'delight', 'funny_to_someone', 'funny_to_me'\n",
    "        ]), \"user_id\", \"text\"\n",
    "    if dataset == \"aggression\":\n",
    "        return sorted([\n",
    "            \"aggression\"\n",
    "        ]), \"worker_id\", \"comment\"\n",
    "    return None"
   ]
  },
  {
   "cell_type": "code",
   "execution_count": 4,
   "id": "b6c3aef4-38cd-42a2-8e2d-c0b5b4602450",
   "metadata": {},
   "outputs": [],
   "source": [
    "label_columns, annotator_column, text_column = get_columns(dataset)\n",
    "num_shots = 2"
   ]
  },
  {
   "cell_type": "code",
   "execution_count": 8,
   "id": "d01b8ed5-c23f-403b-90b3-fa3704d743c8",
   "metadata": {},
   "outputs": [],
   "source": [
    "def parse_annotation_to_text(sample):\n",
    "    if dataset == \"aggression\":\n",
    "        response = \"true\" if sample[label_columns[0]] == 1 else \"false\"\n",
    "    else:\n",
    "        response = \", \".join([label for label in label_columns if sample[label] == 1])\n",
    "    return response"
   ]
  },
  {
   "cell_type": "code",
   "execution_count": 9,
   "id": "5f361484-656d-4515-9f51-f6abd2a9b3cb",
   "metadata": {},
   "outputs": [],
   "source": [
    "def get_examples(df, sample, num_shots=2):\n",
    "    annotator_texts = df[df[annotator_column] == sample[annotator_column]].drop(sample[\"index\"])\n",
    "    if annotator_texts.shape[0] < num_shots:\n",
    "        examples = annotator_texts.sample(frac=1)\n",
    "    else:\n",
    "        examples = annotator_texts.sample(num_shots)\n",
    "    extracted_return = []\n",
    "    for idx, ex in examples.iterrows():\n",
    "        extracted_return.append(ex[text_column])\n",
    "        extracted_return.append(parse_annotation_to_text(ex))\n",
    "    while len(extracted_return) < 2*num_shots:\n",
    "        extracted_return.append(None)\n",
    "    return extracted_return"
   ]
  },
  {
   "cell_type": "code",
   "execution_count": 10,
   "id": "53146001-f9a3-4ca8-b797-0fac24128359",
   "metadata": {},
   "outputs": [
    {
     "name": "stderr",
     "output_type": "stream",
     "text": [
      "100%|███████████████████████████████████████████████████████████████████████████████████████████████████████████████████████████████████████████████████████████████████████████████████████████████| 325339/325339 [03:55<00:00, 1378.60it/s]\n"
     ]
    }
   ],
   "source": [
    "tqdm.pandas()\n",
    "new_columns = sum([[f\"example{i+1}\", f\"example{i+1}_response\"] for i in range(num_shots)], start=[])\n",
    "df[new_columns] = df.reset_index().progress_apply(lambda sample: get_examples(df, sample, 2), axis=1, result_type=\"expand\")"
   ]
  },
  {
   "cell_type": "code",
   "execution_count": 11,
   "id": "ab16e1a6-69ca-4fab-bb21-2ac8c1d3dbab",
   "metadata": {},
   "outputs": [
    {
     "data": {
      "text/html": [
       "<div>\n",
       "<style scoped>\n",
       "    .dataframe tbody tr th:only-of-type {\n",
       "        vertical-align: middle;\n",
       "    }\n",
       "\n",
       "    .dataframe tbody tr th {\n",
       "        vertical-align: top;\n",
       "    }\n",
       "\n",
       "    .dataframe thead th {\n",
       "        text-align: right;\n",
       "    }\n",
       "</style>\n",
       "<table border=\"1\" class=\"dataframe\">\n",
       "  <thead>\n",
       "    <tr style=\"text-align: right;\">\n",
       "      <th></th>\n",
       "      <th>rev_id</th>\n",
       "      <th>comment</th>\n",
       "      <th>year</th>\n",
       "      <th>logged_in</th>\n",
       "      <th>ns</th>\n",
       "      <th>sample</th>\n",
       "      <th>split</th>\n",
       "      <th>worker_id</th>\n",
       "      <th>aggression</th>\n",
       "      <th>aggression_score</th>\n",
       "      <th>example1</th>\n",
       "      <th>example1_response</th>\n",
       "      <th>example2</th>\n",
       "      <th>example2_response</th>\n",
       "    </tr>\n",
       "  </thead>\n",
       "  <tbody>\n",
       "    <tr>\n",
       "      <th>0</th>\n",
       "      <td>155243</td>\n",
       "      <td>:If I may butt in  I've spent the last 1/4 hou...</td>\n",
       "      <td>2002</td>\n",
       "      <td>True</td>\n",
       "      <td>user</td>\n",
       "      <td>random</td>\n",
       "      <td>test</td>\n",
       "      <td>144</td>\n",
       "      <td>0.0</td>\n",
       "      <td>0.0</td>\n",
       "      <td>RFA thanks Thanks for supporting me in my RFA.</td>\n",
       "      <td>false</td>\n",
       "      <td>a quick questionHi Jacob- As you know I am no ...</td>\n",
       "      <td>true</td>\n",
       "    </tr>\n",
       "    <tr>\n",
       "      <th>1</th>\n",
       "      <td>155243</td>\n",
       "      <td>:If I may butt in  I've spent the last 1/4 hou...</td>\n",
       "      <td>2002</td>\n",
       "      <td>True</td>\n",
       "      <td>user</td>\n",
       "      <td>random</td>\n",
       "      <td>test</td>\n",
       "      <td>202</td>\n",
       "      <td>0.0</td>\n",
       "      <td>0.0</td>\n",
       "      <td>SirI am not a vandal. I am only trying to make...</td>\n",
       "      <td>false</td>\n",
       "      <td>:No problem. It was kinda fun once I got the h...</td>\n",
       "      <td>false</td>\n",
       "    </tr>\n",
       "    <tr>\n",
       "      <th>2</th>\n",
       "      <td>155243</td>\n",
       "      <td>:If I may butt in  I've spent the last 1/4 hou...</td>\n",
       "      <td>2002</td>\n",
       "      <td>True</td>\n",
       "      <td>user</td>\n",
       "      <td>random</td>\n",
       "      <td>test</td>\n",
       "      <td>214</td>\n",
       "      <td>1.0</td>\n",
       "      <td>-1.0</td>\n",
       "      <td>Very good. You have finally replaced the black...</td>\n",
       "      <td>false</td>\n",
       "      <td>:::Please answer my questions. Please don't co...</td>\n",
       "      <td>false</td>\n",
       "    </tr>\n",
       "    <tr>\n",
       "      <th>3</th>\n",
       "      <td>155243</td>\n",
       "      <td>:If I may butt in  I've spent the last 1/4 hou...</td>\n",
       "      <td>2002</td>\n",
       "      <td>True</td>\n",
       "      <td>user</td>\n",
       "      <td>random</td>\n",
       "      <td>test</td>\n",
       "      <td>240</td>\n",
       "      <td>0.0</td>\n",
       "      <td>0.0</td>\n",
       "      <td>::Not really this is my home and the other was...</td>\n",
       "      <td>false</td>\n",
       "      <td>I used to like Wikipedia but its assholes li...</td>\n",
       "      <td>true</td>\n",
       "    </tr>\n",
       "    <tr>\n",
       "      <th>4</th>\n",
       "      <td>155243</td>\n",
       "      <td>:If I may butt in  I've spent the last 1/4 hou...</td>\n",
       "      <td>2002</td>\n",
       "      <td>True</td>\n",
       "      <td>user</td>\n",
       "      <td>random</td>\n",
       "      <td>test</td>\n",
       "      <td>297</td>\n",
       "      <td>0.0</td>\n",
       "      <td>0.0</td>\n",
       "      <td>`, 19 December 2007 (UTC):Alex, it's these kin...</td>\n",
       "      <td>false</td>\n",
       "      <td>X-Men: The Last Stand Please don't alter the ...</td>\n",
       "      <td>false</td>\n",
       "    </tr>\n",
       "  </tbody>\n",
       "</table>\n",
       "</div>"
      ],
      "text/plain": [
       "   rev_id                                            comment  year  logged_in  \\\n",
       "0  155243  :If I may butt in  I've spent the last 1/4 hou...  2002       True   \n",
       "1  155243  :If I may butt in  I've spent the last 1/4 hou...  2002       True   \n",
       "2  155243  :If I may butt in  I've spent the last 1/4 hou...  2002       True   \n",
       "3  155243  :If I may butt in  I've spent the last 1/4 hou...  2002       True   \n",
       "4  155243  :If I may butt in  I've spent the last 1/4 hou...  2002       True   \n",
       "\n",
       "     ns  sample split  worker_id  aggression  aggression_score  \\\n",
       "0  user  random  test        144         0.0               0.0   \n",
       "1  user  random  test        202         0.0               0.0   \n",
       "2  user  random  test        214         1.0              -1.0   \n",
       "3  user  random  test        240         0.0               0.0   \n",
       "4  user  random  test        297         0.0               0.0   \n",
       "\n",
       "                                            example1 example1_response  \\\n",
       "0   RFA thanks Thanks for supporting me in my RFA.               false   \n",
       "1  SirI am not a vandal. I am only trying to make...             false   \n",
       "2  Very good. You have finally replaced the black...             false   \n",
       "3  ::Not really this is my home and the other was...             false   \n",
       "4  `, 19 December 2007 (UTC):Alex, it's these kin...             false   \n",
       "\n",
       "                                            example2 example2_response  \n",
       "0  a quick questionHi Jacob- As you know I am no ...              true  \n",
       "1  :No problem. It was kinda fun once I got the h...             false  \n",
       "2  :::Please answer my questions. Please don't co...             false  \n",
       "3    I used to like Wikipedia but its assholes li...              true  \n",
       "4   X-Men: The Last Stand Please don't alter the ...             false  "
      ]
     },
     "execution_count": 11,
     "metadata": {},
     "output_type": "execute_result"
    }
   ],
   "source": [
    "df.head()"
   ]
  },
  {
   "cell_type": "code",
   "execution_count": 12,
   "id": "aba58fe2-87eb-4f77-97d0-99dc1d945095",
   "metadata": {},
   "outputs": [],
   "source": [
    "df.to_csv(filepath, index=False)"
   ]
  }
 ],
 "metadata": {
  "kernelspec": {
   "display_name": "Python 3 (ipykernel)",
   "language": "python",
   "name": "python3"
  },
  "language_info": {
   "codemirror_mode": {
    "name": "ipython",
    "version": 3
   },
   "file_extension": ".py",
   "mimetype": "text/x-python",
   "name": "python",
   "nbconvert_exporter": "python",
   "pygments_lexer": "ipython3",
   "version": "3.10.13"
  }
 },
 "nbformat": 4,
 "nbformat_minor": 5
}
