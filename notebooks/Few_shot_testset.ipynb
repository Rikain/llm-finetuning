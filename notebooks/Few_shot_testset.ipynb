{
 "cells": [
  {
   "cell_type": "code",
   "execution_count": 1,
   "id": "0e09e8be-6997-4458-97fb-395ebbd06b2b",
   "metadata": {},
   "outputs": [],
   "source": [
    "import pandas as pd\n",
    "from pathlib import Path\n",
    "from tqdm import tqdm"
   ]
  },
  {
   "cell_type": "code",
   "execution_count": 2,
   "id": "91f55ff6-e8fd-455b-8648-4b90126298b3",
   "metadata": {},
   "outputs": [
    {
     "data": {
      "text/plain": [
       "(21406, 12)"
      ]
     },
     "execution_count": 2,
     "metadata": {},
     "output_type": "execute_result"
    }
   ],
   "source": [
    "dirpath = Path(\"../data\")\n",
    "dataset = \"unhealthy\"\n",
    "filepath = dirpath / dataset / \"test.csv\"\n",
    "df = pd.read_csv(filepath)\n",
    "df.shape"
   ]
  },
  {
   "cell_type": "code",
   "execution_count": 3,
   "id": "017b3274-9dc4-444c-aa47-875b516b7916",
   "metadata": {},
   "outputs": [],
   "source": [
    "def get_columns(dataset):\n",
    "    if dataset == \"go_emo\":\n",
    "        return sorted([\n",
    "            'admiration','amusement', 'anger', 'annoyance', 'approval', 'caring',\n",
    "            'confusion', 'curiosity', 'desire', 'disappointment', 'disapproval',\n",
    "            'disgust', 'embarrassment', 'excitement', 'fear', 'gratitude', 'grief',\n",
    "            'joy', 'love', 'nervousness', 'optimism', 'pride', 'realization', 'relief',\n",
    "            'remorse', 'sadness', 'surprise', 'neutral'\n",
    "        ]), \"rater_id\", \"text\"\n",
    "    if dataset == \"unhealthy\":\n",
    "        return sorted([\n",
    "            \"antagonize\", \"condescending\" , \"dismissive\", \"generalisation\",\n",
    "            \"generalisation_unfair\", \"healthy\", \"hostile\", \"sarcastic\"\n",
    "        ]), \"_worker_id\", \"comment\"\n",
    "    if dataset == \"docanno\":\n",
    "        return sorted([\n",
    "            'inspiring', 'interesting', 'offensive_to_someone', 'negative',\n",
    "            'offensive_to_me', 'political', 'positive', 'sadness', 'calm',\n",
    "            'fear', 'compassion', 'disgust', 'vulgar', 'surprise', 'embarrasing',\n",
    "            'anger', 'understandable', 'ironic', 'need_more_information',\n",
    "            'happiness', 'delight', 'funny_to_someone', 'funny_to_me'\n",
    "        ]), \"user_id\", \"text\"\n",
    "    return None"
   ]
  },
  {
   "cell_type": "code",
   "execution_count": 4,
   "id": "b6c3aef4-38cd-42a2-8e2d-c0b5b4602450",
   "metadata": {},
   "outputs": [],
   "source": [
    "label_columns, annotator_column, text_column = get_columns(dataset)\n",
    "num_shots = 2"
   ]
  },
  {
   "cell_type": "code",
   "execution_count": 5,
   "id": "d01b8ed5-c23f-403b-90b3-fa3704d743c8",
   "metadata": {},
   "outputs": [],
   "source": [
    "def parse_annotation_to_text(sample):\n",
    "    response = \", \".join([label for label in label_columns if sample[label] == 1])\n",
    "    return response"
   ]
  },
  {
   "cell_type": "code",
   "execution_count": 6,
   "id": "5f361484-656d-4515-9f51-f6abd2a9b3cb",
   "metadata": {},
   "outputs": [],
   "source": [
    "def get_examples(df, sample, num_shots=2):\n",
    "    annotator_texts = df[df[annotator_column] == sample[annotator_column]].drop(sample[\"index\"])\n",
    "    if annotator_texts.shape[0] < num_shots:\n",
    "        examples = annotator_texts.sample(frac=1)\n",
    "    else:\n",
    "        examples = annotator_texts.sample(num_shots)\n",
    "    extracted_return = []\n",
    "    for idx, ex in examples.iterrows():\n",
    "        extracted_return.append(ex[text_column])\n",
    "        extracted_return.append(parse_annotation_to_text(ex))\n",
    "    while len(extracted_return) < 2*num_shots:\n",
    "        extracted_return.append(None)\n",
    "    return extracted_return"
   ]
  },
  {
   "cell_type": "code",
   "execution_count": 7,
   "id": "53146001-f9a3-4ca8-b797-0fac24128359",
   "metadata": {},
   "outputs": [
    {
     "name": "stderr",
     "output_type": "stream",
     "text": [
      "100%|█████████████████████████████████████████████████████████████████████████████████████████████████████████████████████████████████████████████████████████████████████████████████████████████████| 21406/21406 [00:11<00:00, 1920.61it/s]\n"
     ]
    }
   ],
   "source": [
    "tqdm.pandas()\n",
    "new_columns = sum([[f\"example{i+1}\", f\"example{i+1}_response\"] for i in range(num_shots)], start=[])\n",
    "df[new_columns] = df.reset_index().progress_apply(lambda sample: get_examples(df, sample, 2), axis=1, result_type=\"expand\")"
   ]
  },
  {
   "cell_type": "code",
   "execution_count": 8,
   "id": "ab16e1a6-69ca-4fab-bb21-2ac8c1d3dbab",
   "metadata": {},
   "outputs": [
    {
     "data": {
      "text/html": [
       "<div>\n",
       "<style scoped>\n",
       "    .dataframe tbody tr th:only-of-type {\n",
       "        vertical-align: middle;\n",
       "    }\n",
       "\n",
       "    .dataframe tbody tr th {\n",
       "        vertical-align: top;\n",
       "    }\n",
       "\n",
       "    .dataframe thead th {\n",
       "        text-align: right;\n",
       "    }\n",
       "</style>\n",
       "<table border=\"1\" class=\"dataframe\">\n",
       "  <thead>\n",
       "    <tr style=\"text-align: right;\">\n",
       "      <th></th>\n",
       "      <th>_unit_id</th>\n",
       "      <th>comment</th>\n",
       "      <th>_trust</th>\n",
       "      <th>_worker_id</th>\n",
       "      <th>antagonize</th>\n",
       "      <th>condescending</th>\n",
       "      <th>dismissive</th>\n",
       "      <th>generalisation</th>\n",
       "      <th>generalisation_unfair</th>\n",
       "      <th>healthy</th>\n",
       "      <th>hostile</th>\n",
       "      <th>sarcastic</th>\n",
       "      <th>example1</th>\n",
       "      <th>example1_response</th>\n",
       "      <th>example2</th>\n",
       "      <th>example2_response</th>\n",
       "    </tr>\n",
       "  </thead>\n",
       "  <tbody>\n",
       "    <tr>\n",
       "      <th>0</th>\n",
       "      <td>2.327213e+09</td>\n",
       "      <td>No, Olivia Chow has nothing to do with David M...</td>\n",
       "      <td>0.9667</td>\n",
       "      <td>18960682</td>\n",
       "      <td>1.0</td>\n",
       "      <td>1.0</td>\n",
       "      <td>0.0</td>\n",
       "      <td>0.0</td>\n",
       "      <td>0.0</td>\n",
       "      <td>1.0</td>\n",
       "      <td>0.0</td>\n",
       "      <td>1.0</td>\n",
       "      <td>Maybe Canada should offer to bury this terrori...</td>\n",
       "      <td>healthy</td>\n",
       "      <td>Look at the facts. What was the debt pre PM Ha...</td>\n",
       "      <td>healthy</td>\n",
       "    </tr>\n",
       "    <tr>\n",
       "      <th>1</th>\n",
       "      <td>1.739445e+09</td>\n",
       "      <td>Comonsense, he disqualified himself when he fl...</td>\n",
       "      <td>0.9929</td>\n",
       "      <td>44022448</td>\n",
       "      <td>0.0</td>\n",
       "      <td>0.0</td>\n",
       "      <td>0.0</td>\n",
       "      <td>0.0</td>\n",
       "      <td>0.0</td>\n",
       "      <td>1.0</td>\n",
       "      <td>0.0</td>\n",
       "      <td>0.0</td>\n",
       "      <td>Where do you think the money comes from? From ...</td>\n",
       "      <td>healthy</td>\n",
       "      <td>I think this writer read too much in Redford's...</td>\n",
       "      <td>healthy</td>\n",
       "    </tr>\n",
       "    <tr>\n",
       "      <th>2</th>\n",
       "      <td>1.800633e+09</td>\n",
       "      <td>Thanks for your considered opinion, so tempera...</td>\n",
       "      <td>0.9919</td>\n",
       "      <td>44083576</td>\n",
       "      <td>0.0</td>\n",
       "      <td>0.0</td>\n",
       "      <td>0.0</td>\n",
       "      <td>0.0</td>\n",
       "      <td>0.0</td>\n",
       "      <td>1.0</td>\n",
       "      <td>0.0</td>\n",
       "      <td>0.0</td>\n",
       "      <td>...attacking the spouse or family of a politic...</td>\n",
       "      <td>healthy</td>\n",
       "      <td>Jordan - impressive breakdown of the problem b...</td>\n",
       "      <td>healthy</td>\n",
       "    </tr>\n",
       "    <tr>\n",
       "      <th>3</th>\n",
       "      <td>1.739443e+09</td>\n",
       "      <td>When you start worrying about the 'human right...</td>\n",
       "      <td>0.9500</td>\n",
       "      <td>44556582</td>\n",
       "      <td>0.0</td>\n",
       "      <td>0.0</td>\n",
       "      <td>0.0</td>\n",
       "      <td>0.0</td>\n",
       "      <td>0.0</td>\n",
       "      <td>1.0</td>\n",
       "      <td>0.0</td>\n",
       "      <td>0.0</td>\n",
       "      <td>Hi Broom Closet. I thought you were going to g...</td>\n",
       "      <td>healthy</td>\n",
       "      <td>where did I apologize? Conservatives always si...</td>\n",
       "      <td>healthy</td>\n",
       "    </tr>\n",
       "    <tr>\n",
       "      <th>4</th>\n",
       "      <td>1.739442e+09</td>\n",
       "      <td>Like watching a class c Hollywood production t...</td>\n",
       "      <td>0.9929</td>\n",
       "      <td>44022448</td>\n",
       "      <td>0.0</td>\n",
       "      <td>0.0</td>\n",
       "      <td>0.0</td>\n",
       "      <td>0.0</td>\n",
       "      <td>0.0</td>\n",
       "      <td>1.0</td>\n",
       "      <td>0.0</td>\n",
       "      <td>0.0</td>\n",
       "      <td>Absolutely spot on. But don't expect the flogg...</td>\n",
       "      <td>healthy</td>\n",
       "      <td>I think this writer read too much in Redford's...</td>\n",
       "      <td>healthy</td>\n",
       "    </tr>\n",
       "  </tbody>\n",
       "</table>\n",
       "</div>"
      ],
      "text/plain": [
       "       _unit_id                                            comment  _trust  \\\n",
       "0  2.327213e+09  No, Olivia Chow has nothing to do with David M...  0.9667   \n",
       "1  1.739445e+09  Comonsense, he disqualified himself when he fl...  0.9929   \n",
       "2  1.800633e+09  Thanks for your considered opinion, so tempera...  0.9919   \n",
       "3  1.739443e+09  When you start worrying about the 'human right...  0.9500   \n",
       "4  1.739442e+09  Like watching a class c Hollywood production t...  0.9929   \n",
       "\n",
       "   _worker_id  antagonize  condescending  dismissive  generalisation  \\\n",
       "0    18960682         1.0            1.0         0.0             0.0   \n",
       "1    44022448         0.0            0.0         0.0             0.0   \n",
       "2    44083576         0.0            0.0         0.0             0.0   \n",
       "3    44556582         0.0            0.0         0.0             0.0   \n",
       "4    44022448         0.0            0.0         0.0             0.0   \n",
       "\n",
       "   generalisation_unfair  healthy  hostile  sarcastic  \\\n",
       "0                    0.0      1.0      0.0        1.0   \n",
       "1                    0.0      1.0      0.0        0.0   \n",
       "2                    0.0      1.0      0.0        0.0   \n",
       "3                    0.0      1.0      0.0        0.0   \n",
       "4                    0.0      1.0      0.0        0.0   \n",
       "\n",
       "                                            example1 example1_response  \\\n",
       "0  Maybe Canada should offer to bury this terrori...           healthy   \n",
       "1  Where do you think the money comes from? From ...           healthy   \n",
       "2  ...attacking the spouse or family of a politic...           healthy   \n",
       "3  Hi Broom Closet. I thought you were going to g...           healthy   \n",
       "4  Absolutely spot on. But don't expect the flogg...           healthy   \n",
       "\n",
       "                                            example2 example2_response  \n",
       "0  Look at the facts. What was the debt pre PM Ha...           healthy  \n",
       "1  I think this writer read too much in Redford's...           healthy  \n",
       "2  Jordan - impressive breakdown of the problem b...           healthy  \n",
       "3  where did I apologize? Conservatives always si...           healthy  \n",
       "4  I think this writer read too much in Redford's...           healthy  "
      ]
     },
     "execution_count": 8,
     "metadata": {},
     "output_type": "execute_result"
    }
   ],
   "source": [
    "df.head()"
   ]
  },
  {
   "cell_type": "code",
   "execution_count": 9,
   "id": "aba58fe2-87eb-4f77-97d0-99dc1d945095",
   "metadata": {},
   "outputs": [],
   "source": [
    "df.to_csv(filepath, index=False)"
   ]
  }
 ],
 "metadata": {
  "kernelspec": {
   "display_name": "Python 3 (ipykernel)",
   "language": "python",
   "name": "python3"
  },
  "language_info": {
   "codemirror_mode": {
    "name": "ipython",
    "version": 3
   },
   "file_extension": ".py",
   "mimetype": "text/x-python",
   "name": "python",
   "nbconvert_exporter": "python",
   "pygments_lexer": "ipython3",
   "version": "3.10.13"
  }
 },
 "nbformat": 4,
 "nbformat_minor": 5
}
