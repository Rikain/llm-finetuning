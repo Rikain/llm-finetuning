{
 "cells": [
  {
   "cell_type": "code",
   "execution_count": 1,
   "id": "c19c2368-e99b-4a38-93ed-c6505cadcf0d",
   "metadata": {},
   "outputs": [],
   "source": [
    "import pandas as pd\n",
    "from pathlib import Path \n",
    "from tqdm import tqdm"
   ]
  },
  {
   "cell_type": "code",
   "execution_count": 2,
   "id": "69b98c7c-2dd2-4239-a22e-3143d40b7398",
   "metadata": {},
   "outputs": [],
   "source": [
    "# !wget https://figshare.com/ndownloader/files/7038038 -O ../data/aggression/original/wikidetox_aggression_texts.tsv\n",
    "# !wget https://figshare.com/ndownloader/files/7394506 -O ../data/aggression/original/wikidetox_aggression_annotations.tsv"
   ]
  },
  {
   "cell_type": "code",
   "execution_count": 3,
   "id": "082cf409-4f83-4469-916c-d66cef47412e",
   "metadata": {},
   "outputs": [],
   "source": [
    "datadir = Path(\"../data/aggression\")\n",
    "original_dir = datadir / \"original\"\n",
    "train_path = datadir / \"train.csv\"\n",
    "val_path = datadir / \"val.csv\"\n",
    "test_path = datadir / \"test.csv\"\n",
    "\n",
    "original_texts = pd.read_csv(original_dir / \"wikidetox_aggression_texts.tsv\", delimiter=\"\\t\")\n",
    "original_annotations = pd.read_csv(original_dir / \"wikidetox_aggression_annotations.tsv\", delimiter=\"\\t\")"
   ]
  },
  {
   "cell_type": "code",
   "execution_count": 4,
   "id": "ed66b629-f9a0-4cd7-98f7-92a2a33d5fe7",
   "metadata": {},
   "outputs": [
    {
     "data": {
      "text/plain": [
       "((115864, 7), (1365217, 4))"
      ]
     },
     "execution_count": 4,
     "metadata": {},
     "output_type": "execute_result"
    }
   ],
   "source": [
    "original_texts.shape, original_annotations.shape"
   ]
  },
  {
   "cell_type": "code",
   "execution_count": 5,
   "id": "b6960a26-03c8-49db-9bb7-3c6a9a4daeb7",
   "metadata": {},
   "outputs": [
    {
     "data": {
      "text/plain": [
       "(Index(['rev_id', 'comment', 'year', 'logged_in', 'ns', 'sample', 'split'], dtype='object'),\n",
       " Index(['rev_id', 'worker_id', 'aggression', 'aggression_score'], dtype='object'))"
      ]
     },
     "execution_count": 5,
     "metadata": {},
     "output_type": "execute_result"
    }
   ],
   "source": [
    "original_texts.columns, original_annotations.columns"
   ]
  },
  {
   "cell_type": "code",
   "execution_count": 6,
   "id": "38ca4293-811d-4de9-9d69-e03cf07ae132",
   "metadata": {},
   "outputs": [
    {
     "data": {
      "text/plain": [
       "array(['train', 'dev', 'test'], dtype=object)"
      ]
     },
     "execution_count": 6,
     "metadata": {},
     "output_type": "execute_result"
    }
   ],
   "source": [
    "original_texts[\"split\"].unique()"
   ]
  },
  {
   "cell_type": "code",
   "execution_count": 7,
   "id": "b74aefe6-3698-4844-934e-f944888d2480",
   "metadata": {},
   "outputs": [
    {
     "data": {
      "text/plain": [
       "((1365217, 10),\n",
       " Index(['rev_id', 'comment', 'year', 'logged_in', 'ns', 'sample', 'split',\n",
       "        'worker_id', 'aggression', 'aggression_score'],\n",
       "       dtype='object'))"
      ]
     },
     "execution_count": 7,
     "metadata": {},
     "output_type": "execute_result"
    }
   ],
   "source": [
    "full_df = pd.merge(original_texts, original_annotations, how=\"inner\", on=\"rev_id\")\n",
    "full_df['comment'] = full_df['comment'].str.replace('NEWLINE_TOKEN', '')\n",
    "full_df['comment'] = full_df['comment'].str.replace('==', '')\n",
    "full_df = full_df.drop_duplicates()\n",
    "full_df.shape, full_df.columns"
   ]
  },
  {
   "cell_type": "code",
   "execution_count": 8,
   "id": "07488587-40a6-45df-93be-79a30d4c24db",
   "metadata": {},
   "outputs": [
    {
     "data": {
      "text/plain": [
       "((762046, 10), (253589, 10), (349582, 10))"
      ]
     },
     "execution_count": 8,
     "metadata": {},
     "output_type": "execute_result"
    }
   ],
   "source": [
    "raw_train = full_df[full_df[\"split\"] == \"train\"]\n",
    "raw_val = full_df[full_df[\"split\"] == \"dev\"]\n",
    "raw_test = full_df[full_df[\"split\"] == \"test\"]\n",
    "raw_train.shape, raw_val.shape, raw_test.shape"
   ]
  },
  {
   "cell_type": "code",
   "execution_count": 9,
   "id": "92c6066a-9667-4eb9-81a1-9cf257a5cc6f",
   "metadata": {},
   "outputs": [
    {
     "data": {
      "text/html": [
       "<div>\n",
       "<style scoped>\n",
       "    .dataframe tbody tr th:only-of-type {\n",
       "        vertical-align: middle;\n",
       "    }\n",
       "\n",
       "    .dataframe tbody tr th {\n",
       "        vertical-align: top;\n",
       "    }\n",
       "\n",
       "    .dataframe thead th {\n",
       "        text-align: right;\n",
       "    }\n",
       "</style>\n",
       "<table border=\"1\" class=\"dataframe\">\n",
       "  <thead>\n",
       "    <tr style=\"text-align: right;\">\n",
       "      <th></th>\n",
       "      <th>rev_id</th>\n",
       "      <th>comment</th>\n",
       "      <th>year</th>\n",
       "      <th>logged_in</th>\n",
       "      <th>ns</th>\n",
       "      <th>sample</th>\n",
       "      <th>split</th>\n",
       "      <th>worker_id</th>\n",
       "      <th>aggression</th>\n",
       "      <th>aggression_score</th>\n",
       "    </tr>\n",
       "  </thead>\n",
       "  <tbody>\n",
       "    <tr>\n",
       "      <th>0</th>\n",
       "      <td>37675</td>\n",
       "      <td>`-This is not ``creative``.  Those are the dic...</td>\n",
       "      <td>2002</td>\n",
       "      <td>True</td>\n",
       "      <td>article</td>\n",
       "      <td>random</td>\n",
       "      <td>train</td>\n",
       "      <td>1362</td>\n",
       "      <td>1.0</td>\n",
       "      <td>-1.0</td>\n",
       "    </tr>\n",
       "    <tr>\n",
       "      <th>1</th>\n",
       "      <td>37675</td>\n",
       "      <td>`-This is not ``creative``.  Those are the dic...</td>\n",
       "      <td>2002</td>\n",
       "      <td>True</td>\n",
       "      <td>article</td>\n",
       "      <td>random</td>\n",
       "      <td>train</td>\n",
       "      <td>2408</td>\n",
       "      <td>0.0</td>\n",
       "      <td>1.0</td>\n",
       "    </tr>\n",
       "    <tr>\n",
       "      <th>2</th>\n",
       "      <td>37675</td>\n",
       "      <td>`-This is not ``creative``.  Those are the dic...</td>\n",
       "      <td>2002</td>\n",
       "      <td>True</td>\n",
       "      <td>article</td>\n",
       "      <td>random</td>\n",
       "      <td>train</td>\n",
       "      <td>1493</td>\n",
       "      <td>0.0</td>\n",
       "      <td>0.0</td>\n",
       "    </tr>\n",
       "    <tr>\n",
       "      <th>3</th>\n",
       "      <td>37675</td>\n",
       "      <td>`-This is not ``creative``.  Those are the dic...</td>\n",
       "      <td>2002</td>\n",
       "      <td>True</td>\n",
       "      <td>article</td>\n",
       "      <td>random</td>\n",
       "      <td>train</td>\n",
       "      <td>1439</td>\n",
       "      <td>0.0</td>\n",
       "      <td>0.0</td>\n",
       "    </tr>\n",
       "    <tr>\n",
       "      <th>4</th>\n",
       "      <td>37675</td>\n",
       "      <td>`-This is not ``creative``.  Those are the dic...</td>\n",
       "      <td>2002</td>\n",
       "      <td>True</td>\n",
       "      <td>article</td>\n",
       "      <td>random</td>\n",
       "      <td>train</td>\n",
       "      <td>170</td>\n",
       "      <td>0.0</td>\n",
       "      <td>0.0</td>\n",
       "    </tr>\n",
       "  </tbody>\n",
       "</table>\n",
       "</div>"
      ],
      "text/plain": [
       "   rev_id                                            comment  year  logged_in  \\\n",
       "0   37675  `-This is not ``creative``.  Those are the dic...  2002       True   \n",
       "1   37675  `-This is not ``creative``.  Those are the dic...  2002       True   \n",
       "2   37675  `-This is not ``creative``.  Those are the dic...  2002       True   \n",
       "3   37675  `-This is not ``creative``.  Those are the dic...  2002       True   \n",
       "4   37675  `-This is not ``creative``.  Those are the dic...  2002       True   \n",
       "\n",
       "        ns  sample  split  worker_id  aggression  aggression_score  \n",
       "0  article  random  train       1362         1.0              -1.0  \n",
       "1  article  random  train       2408         0.0               1.0  \n",
       "2  article  random  train       1493         0.0               0.0  \n",
       "3  article  random  train       1439         0.0               0.0  \n",
       "4  article  random  train        170         0.0               0.0  "
      ]
     },
     "execution_count": 9,
     "metadata": {},
     "output_type": "execute_result"
    }
   ],
   "source": [
    "raw_train.head()"
   ]
  },
  {
   "cell_type": "code",
   "execution_count": 10,
   "id": "92507739-2fb1-44a9-a5aa-c8e5aa2a49b4",
   "metadata": {},
   "outputs": [],
   "source": [
    "def check_users(train, test, dev):\n",
    "    train_users = train[\"worker_id\"].unique()\n",
    "    dev_users = dev[\"worker_id\"].unique()\n",
    "    test_users = test[\"worker_id\"].unique()\n",
    "    print(\"sizes -\", \"train:\", train_users.shape, \"val:\", dev_users.shape, \"test:\", test_users.shape)\n",
    "    train_dev = (len(set(train_users) - set(dev_users)), len(set(dev_users) - set(train_users)))\n",
    "    train_test = (len(set(train_users) - set(test_users)), len(set(test_users) - set(train_users)))\n",
    "    test_dev = (len(set(test_users) - set(dev_users)), len(set(dev_users) - set(test_users)))\n",
    "    print(train_dev, train_test, test_dev)\n",
    "    print(set(train_users) - set(test_users))"
   ]
  },
  {
   "cell_type": "code",
   "execution_count": 11,
   "id": "ff932fb2-643d-41ff-9e8e-5e15f045e743",
   "metadata": {},
   "outputs": [],
   "source": [
    "def clean_users(new_train, new_val, new_test):\n",
    "    in_test = new_train[new_train[\"worker_id\"].isin(new_test[\"worker_id\"])]\n",
    "    in_both = in_test[in_test[\"worker_id\"].isin(new_val[\"worker_id\"])]\n",
    "    dev_both = new_val[new_val[\"worker_id\"].isin(in_both[\"worker_id\"])]\n",
    "    test_both = new_test[new_test[\"worker_id\"].isin(in_both[\"worker_id\"])]\n",
    "    print(in_both.shape, dev_both.shape, test_both.shape)\n",
    "    return in_both, dev_both, test_both"
   ]
  },
  {
   "cell_type": "code",
   "execution_count": 12,
   "id": "9709e6a9-0f0c-43f0-b039-21504589e602",
   "metadata": {},
   "outputs": [],
   "source": [
    "def average_annotation_per_user(df, crop=False):\n",
    "    annotation_number = df.groupby(by=[\"worker_id\"]).count()[\"comment\"].sort_values()\n",
    "    print(\"annotator head\")\n",
    "    print(annotation_number.head())\n",
    "    print(\"annotator tail\")\n",
    "    print(annotation_number.tail())\n",
    "    mean = annotation_number.mean()\n",
    "    max = annotation_number.max()\n",
    "    min = annotation_number.min()\n",
    "    median = annotation_number.median()\n",
    "    (annotation_number/max).reset_index()[\"comment\"].plot()\n",
    "    all = df.shape[0]\n",
    "    upper_threshold = 0.8*max\n",
    "    lower_threshold = 0.05*max\n",
    "    print(\"ANNOTATORS\")\n",
    "    print(\"min:\", min, \"mean:\", mean, \"median:\", median ,\"max:\", max, \"all:\", all)\n",
    "    text_number = df.groupby(by=[\"comment\"]).count()[\"worker_id\"].sort_values()\n",
    "    # print(\"text head\")\n",
    "    # print(text_number.head())\n",
    "    # print(\"text tail\")\n",
    "    # print(text_number.tail())\n",
    "    mean = text_number.mean()\n",
    "    max = text_number.max()\n",
    "    min = text_number.min()\n",
    "    median = text_number.median()\n",
    "    # (text_number/max).reset_index()[\"worker_id\"].plot()\n",
    "    all = df.shape[0]\n",
    "    print(\"TEXTS\")\n",
    "    print(\"min:\", min, \"mean:\", mean, \"median:\", median ,\"max:\", max, \"all:\", all)    \n",
    "    curr_df = df\n",
    "    if crop:\n",
    "        print(\"cropping...\")\n",
    "        print(curr_df.shape)\n",
    "        to_crop = []\n",
    "        for worker in tqdm(df[\"worker_id\"].unique()):\n",
    "            if annotation_number[worker] < lower_threshold:\n",
    "                curr_df = curr_df[curr_df[\"worker_id\"] != worker]\n",
    "            if annotation_number[worker] > upper_threshold:\n",
    "                to_crop.append(worker)\n",
    "        print(\"after lower crop, before upper\")\n",
    "        print(curr_df.shape)\n",
    "        for worker in tqdm(to_crop):\n",
    "            crop_number = int(annotation_number[worker] - upper_threshold)\n",
    "            ann_to_drop = curr_df[curr_df[\"worker_id\"] == worker].sample(n=crop_number)\n",
    "            anns = pd.merge(curr_df, ann_to_drop, how=\"outer\", indicator=True)\n",
    "            curr_df = anns[anns[\"_merge\"] == \"left_only\"].drop(columns=[\"_merge\"], axis=1)\n",
    "        print(\"cropping finished...\")\n",
    "        print(curr_df.shape)\n",
    "    return curr_df.dropna()"
   ]
  },
  {
   "cell_type": "code",
   "execution_count": 13,
   "id": "86068875-2cc4-4509-bb9d-3d322c9c3ca7",
   "metadata": {},
   "outputs": [],
   "source": [
    "def change_id_to_int(df):\n",
    "    df[\"worker_id\"] = df[\"worker_id\"].astype(int)\n",
    "    return df"
   ]
  },
  {
   "cell_type": "code",
   "execution_count": 14,
   "id": "04ed9072-40bb-42bb-8baa-451ca63ebbd4",
   "metadata": {},
   "outputs": [],
   "source": [
    "def analyze_annotations(train, dev, test, crop=False):\n",
    "    print('-'*10, 'check', \"-\"*10)\n",
    "    check_users(train, test, dev)\n",
    "    print('-'*10, 'clean', \"-\"*10)\n",
    "    in_both, dev_both, test_both = clean_users(train, dev, test)\n",
    "    print('-'*10, 'train', \"-\"*10)\n",
    "    crop_train = average_annotation_per_user(in_both, crop=crop)\n",
    "    print('-'*10, 'dev', \"-\"*10)\n",
    "    crop_dev = average_annotation_per_user(dev_both, crop=crop)\n",
    "    print('-'*10, 'test', \"-\"*10)\n",
    "    crop_test = average_annotation_per_user(test_both, crop=crop)\n",
    "    print('-'*10, 'check 2', \"-\"*10)\n",
    "    check_users(crop_train, crop_test, crop_dev)\n",
    "    print('-'*10, 'clean 2', \"-\"*10)\n",
    "    train_final, dev_final, test_final = clean_users(crop_train, crop_dev, crop_test)\n",
    "    print('-'*10, 'check 3', \"-\"*10)\n",
    "    check_users(train_final, test_final, dev_final)\n",
    "    train_final = change_id_to_int(train_final)\n",
    "    dev_final = change_id_to_int(dev_final)\n",
    "    test_final = change_id_to_int(test_final)\n",
    "    return train_final, dev_final, test_final"
   ]
  },
  {
   "cell_type": "code",
   "execution_count": 15,
   "id": "b51be42d-82d4-4ef8-83ff-494c71f23ac5",
   "metadata": {},
   "outputs": [
    {
     "name": "stdout",
     "output_type": "stream",
     "text": [
      "---------- check ----------\n",
      "sizes - train: (4048,) val: (4018,) test: (4039,)\n",
      "(32, 2) (13, 4) (33, 12)\n",
      "{3425, 4033, 3971, 3812, 3942, 3975, 3977, 3852, 4044, 3886, 4047, 3828, 3295}\n",
      "---------- clean ----------\n",
      "(761766, 10) (253551, 10) (349353, 10)\n",
      "---------- train ----------\n",
      "annotator head\n",
      "worker_id\n",
      "3751    1\n",
      "3858    1\n",
      "3098    1\n",
      "3936    1\n",
      "3357    1\n",
      "Name: comment, dtype: int64\n",
      "annotator tail\n",
      "worker_id\n",
      "381    719\n",
      "344    733\n",
      "70     733\n",
      "62     734\n",
      "11     750\n",
      "Name: comment, dtype: int64\n",
      "ANNOTATORS\n",
      "min: 1 mean: 190.20374531835205 median: 146.0 max: 750 all: 761766\n",
      "TEXTS\n",
      "min: 7 mean: 10.973134930352487 median: 10.0 max: 57 all: 761766\n",
      "cropping...\n",
      "(761766, 10)\n"
     ]
    },
    {
     "name": "stderr",
     "output_type": "stream",
     "text": [
      "100%|████████████████████████████████████████████████████████████████████████████████████████████████████████████████████████████████████████████████████████████████████████████████████████████████████| 4005/4005 [00:27<00:00, 147.65it/s]\n"
     ]
    },
    {
     "name": "stdout",
     "output_type": "stream",
     "text": [
      "after lower crop, before upper\n",
      "(750814, 10)\n"
     ]
    },
    {
     "name": "stderr",
     "output_type": "stream",
     "text": [
      "100%|█████████████████████████████████████████████████████████████████████████████████████████████████████████████████████████████████████████████████████████████████████████████████████████████████████████| 72/72 [00:49<00:00,  1.46it/s]\n"
     ]
    },
    {
     "name": "stdout",
     "output_type": "stream",
     "text": [
      "cropping finished...\n",
      "(746878, 10)\n",
      "---------- dev ----------\n",
      "annotator head\n",
      "worker_id\n",
      "2867    1\n",
      "2783    1\n",
      "3098    1\n",
      "3989    1\n",
      "3986    1\n",
      "Name: comment, dtype: int64\n",
      "annotator tail\n",
      "worker_id\n",
      "270    247\n",
      "303    248\n",
      "168    248\n",
      "115    249\n",
      "11     269\n",
      "Name: comment, dtype: int64\n",
      "ANNOTATORS\n",
      "min: 1 mean: 63.308614232209734 median: 47.0 max: 269 all: 253551\n",
      "TEXTS\n",
      "min: 7 mean: 10.95441977015467 median: 10.0 max: 47 all: 253551\n",
      "cropping...\n",
      "(253551, 10)\n"
     ]
    },
    {
     "name": "stderr",
     "output_type": "stream",
     "text": [
      "100%|████████████████████████████████████████████████████████████████████████████████████████████████████████████████████████████████████████████████████████████████████████████████████████████████████| 4005/4005 [00:11<00:00, 361.41it/s]\n"
     ]
    },
    {
     "name": "stdout",
     "output_type": "stream",
     "text": [
      "after lower crop, before upper\n",
      "(248936, 10)\n"
     ]
    },
    {
     "name": "stderr",
     "output_type": "stream",
     "text": [
      "100%|█████████████████████████████████████████████████████████████████████████████████████████████████████████████████████████████████████████████████████████████████████████████████████████████████████████| 36/36 [00:07<00:00,  4.72it/s]\n"
     ]
    },
    {
     "name": "stdout",
     "output_type": "stream",
     "text": [
      "cropping finished...\n",
      "(248437, 10)\n",
      "---------- test ----------\n",
      "annotator head\n",
      "worker_id\n",
      "2556    1\n",
      "3995    1\n",
      "1857    1\n",
      "1178    1\n",
      "3239    1\n",
      "Name: comment, dtype: int64\n",
      "annotator tail\n",
      "worker_id\n",
      "381    448\n",
      "518    454\n",
      "11     456\n",
      "62     461\n",
      "328    467\n",
      "Name: comment, dtype: int64\n",
      "ANNOTATORS\n",
      "min: 1 mean: 87.22921348314607 median: 54.0 max: 467 all: 349353\n",
      "TEXTS\n",
      "min: 7 mean: 15.088886969291236 median: 10.0 max: 58 all: 349353\n",
      "cropping...\n",
      "(349353, 10)\n"
     ]
    },
    {
     "name": "stderr",
     "output_type": "stream",
     "text": [
      "100%|████████████████████████████████████████████████████████████████████████████████████████████████████████████████████████████████████████████████████████████████████████████████████████████████████| 4005/4005 [00:20<00:00, 199.33it/s]\n"
     ]
    },
    {
     "name": "stdout",
     "output_type": "stream",
     "text": [
      "after lower crop, before upper\n",
      "(337491, 10)\n"
     ]
    },
    {
     "name": "stderr",
     "output_type": "stream",
     "text": [
      "100%|█████████████████████████████████████████████████████████████████████████████████████████████████████████████████████████████████████████████████████████████████████████████████████████████████████████| 39/39 [00:10<00:00,  3.65it/s]\n"
     ]
    },
    {
     "name": "stdout",
     "output_type": "stream",
     "text": [
      "cropping finished...\n",
      "(335993, 10)\n",
      "---------- check 2 ----------\n",
      "sizes - train: (3450,) val: (3355,) test: (3093,)\n",
      "(144, 49) (527, 170) (212, 474)\n",
      "{2048, 2062, 2067, 2091, 2094, 2096, 2122, 2144, 2206, 2212, 2225, 2226, 182, 2239, 2240, 2245, 199, 2247, 233, 2283, 267, 2332, 298, 2376, 2380, 2386, 2389, 2394, 2395, 2400, 2438, 2442, 2444, 2454, 2458, 2464, 2465, 2472, 2477, 2483, 2491, 2503, 2526, 2560, 2570, 2573, 2574, 2590, 2602, 2606, 2618, 2621, 2637, 2642, 2650, 2656, 2658, 2665, 2691, 2703, 2706, 2708, 2719, 2733, 2740, 2744, 2747, 2754, 2759, 2765, 2768, 2803, 2808, 2810, 2811, 2812, 2816, 2820, 2828, 2830, 2833, 2837, 2839, 2842, 2844, 2847, 2850, 2854, 2855, 2857, 2858, 2859, 2861, 2866, 2868, 2870, 2891, 2892, 2893, 2915, 2920, 2927, 2933, 2936, 2941, 2947, 2954, 2963, 2964, 2966, 2969, 2971, 2972, 2973, 2974, 2979, 2980, 2982, 2990, 948, 2996, 2997, 3001, 3002, 3008, 3011, 3018, 3019, 3020, 3022, 3023, 3026, 980, 3035, 3038, 3040, 998, 999, 1000, 3047, 3050, 3054, 3055, 3056, 3067, 3071, 3076, 3089, 3092, 3093, 3095, 3103, 3104, 3106, 3108, 3109, 3110, 3119, 3120, 3126, 3128, 3129, 3130, 3131, 3132, 3135, 3136, 3150, 3152, 3154, 1109, 3157, 3160, 3161, 3163, 3166, 3167, 3168, 3171, 3175, 3176, 3177, 3178, 3179, 3180, 1136, 3185, 3186, 3188, 1141, 3190, 3193, 3196, 3199, 3200, 1154, 3203, 1156, 3206, 3210, 3216, 3217, 3220, 1181, 1182, 1184, 3235, 3236, 3238, 1192, 3240, 3242, 3244, 3246, 1199, 3247, 3250, 1203, 3251, 3252, 3255, 3256, 3257, 1209, 3258, 3261, 3263, 3264, 3267, 3270, 3272, 3275, 3276, 3280, 3283, 3284, 3285, 3286, 3289, 3290, 3291, 3293, 3294, 3296, 3300, 1257, 3308, 3309, 3311, 3312, 1274, 3322, 3323, 3325, 3326, 3327, 3329, 3330, 3331, 3332, 3333, 3334, 3335, 1289, 1294, 3345, 1304, 3353, 1306, 3364, 1319, 1320, 3369, 1324, 1326, 3377, 3379, 3382, 3384, 1340, 1341, 3390, 3391, 3393, 3394, 3398, 3399, 1353, 3402, 3403, 3404, 3412, 3413, 3414, 1367, 3421, 3423, 3424, 3427, 3429, 3430, 3433, 3434, 3435, 3441, 3443, 1396, 3450, 3456, 3457, 3458, 3465, 1421, 3469, 3474, 3475, 3478, 3479, 3480, 3481, 3482, 3485, 3486, 3487, 3488, 3489, 3492, 3496, 3498, 3499, 3504, 3505, 3509, 3510, 3511, 3514, 3516, 3519, 3520, 3530, 1483, 3535, 3547, 3556, 3572, 3573, 3578, 3595, 3598, 3599, 3600, 3601, 3602, 3603, 3605, 3606, 3609, 3610, 3612, 3613, 3614, 3617, 3618, 3619, 3620, 3621, 3622, 3623, 3624, 3625, 3630, 3631, 1584, 1592, 3645, 1610, 3658, 3659, 3660, 3662, 3663, 3664, 3665, 3667, 3669, 3670, 3671, 3674, 1628, 3676, 3677, 3678, 3679, 3680, 3683, 3685, 3686, 3688, 3689, 3690, 3693, 3694, 3696, 3697, 1650, 1651, 3700, 3702, 3703, 3704, 3705, 3712, 3713, 3714, 3716, 3719, 3720, 3722, 3725, 3727, 3729, 3733, 3734, 3736, 3737, 3738, 3739, 3742, 3744, 3746, 3747, 3752, 3753, 1707, 1710, 3760, 3761, 3765, 3768, 1721, 3771, 3773, 3776, 1737, 3785, 3787, 3788, 3790, 1743, 3791, 3792, 1746, 3793, 1748, 1749, 3794, 3800, 3801, 1754, 3814, 1767, 3816, 3817, 3820, 3821, 3825, 3826, 1779, 3827, 3829, 3831, 3832, 1797, 3847, 3848, 3850, 3855, 1808, 1812, 3868, 3873, 1829, 3881, 3884, 3888, 3890, 1844, 3892, 3893, 1847, 3901, 3904, 3905, 3909, 1865, 1866, 3915, 3922, 3923, 3927, 3928, 3950, 3960, 1916, 3967, 1922, 1927, 1938, 1940, 3988, 1953, 4003, 4004, 1959, 4009, 4010, 4014, 1979, 1982, 1984, 1988, 1992, 2004, 2017, 2020, 2039, 2041}\n",
      "---------- clean 2 ----------\n",
      "(711584, 10) (238062, 10) (325339, 10)\n",
      "---------- check 3 ----------\n",
      "sizes - train: (2856,) val: (2856,) test: (2856,)\n",
      "(0, 0) (0, 0) (0, 0)\n",
      "set()\n"
     ]
    },
    {
     "name": "stderr",
     "output_type": "stream",
     "text": [
      "/tmp/ipykernel_2610012/3110118588.py:2: SettingWithCopyWarning: \n",
      "A value is trying to be set on a copy of a slice from a DataFrame.\n",
      "Try using .loc[row_indexer,col_indexer] = value instead\n",
      "\n",
      "See the caveats in the documentation: https://pandas.pydata.org/pandas-docs/stable/user_guide/indexing.html#returning-a-view-versus-a-copy\n",
      "  df[\"worker_id\"] = df[\"worker_id\"].astype(int)\n",
      "/tmp/ipykernel_2610012/3110118588.py:2: SettingWithCopyWarning: \n",
      "A value is trying to be set on a copy of a slice from a DataFrame.\n",
      "Try using .loc[row_indexer,col_indexer] = value instead\n",
      "\n",
      "See the caveats in the documentation: https://pandas.pydata.org/pandas-docs/stable/user_guide/indexing.html#returning-a-view-versus-a-copy\n",
      "  df[\"worker_id\"] = df[\"worker_id\"].astype(int)\n"
     ]
    },
    {
     "data": {
      "image/png": "[encoded data removed]",
      "text/plain": [
       "<Figure size 640x480 with 1 Axes>"
      ]
     },
     "metadata": {},
     "output_type": "display_data"
    }
   ],
   "source": [
    "train_final, dev_final, test_final = analyze_annotations(raw_train, raw_val, raw_test, crop=True)"
   ]
  },
  {
   "cell_type": "code",
   "execution_count": 16,
   "id": "32938830-d9a0-4f07-a99c-3fe5051dce9a",
   "metadata": {},
   "outputs": [
    {
     "name": "stdout",
     "output_type": "stream",
     "text": [
      "---------- check ----------\n",
      "sizes - train: (2856,) val: (2856,) test: (2856,)\n",
      "(0, 0) (0, 0) (0, 0)\n",
      "set()\n",
      "---------- clean ----------\n",
      "(711584, 10) (238062, 10) (325339, 10)\n",
      "---------- train ----------\n",
      "annotator head\n",
      "worker_id\n",
      "1384    38\n",
      "2345    38\n",
      "2207    38\n",
      "2194    38\n",
      "2189    38\n",
      "Name: comment, dtype: int64\n",
      "annotator tail\n",
      "worker_id\n",
      "328    600\n",
      "344    600\n",
      "81     600\n",
      "70     600\n",
      "68     600\n",
      "Name: comment, dtype: int64\n",
      "ANNOTATORS\n",
      "min: 38 mean: 249.15406162464987 median: 203.0 max: 600 all: 711584\n",
      "TEXTS\n",
      "min: 3 mean: 10.250270091182783 median: 9.0 max: 54 all: 711584\n",
      "---------- dev ----------\n",
      "annotator head\n",
      "worker_id\n",
      "888     14\n",
      "1428    14\n",
      "1486    14\n",
      "2352    14\n",
      "3371    14\n",
      "Name: comment, dtype: int64\n",
      "annotator tail\n",
      "worker_id\n",
      "270     216\n",
      "1127    216\n",
      "261     216\n",
      "217     216\n",
      "51      216\n",
      "Name: comment, dtype: int64\n",
      "ANNOTATORS\n",
      "min: 14 mean: 83.35504201680672 median: 67.0 max: 216 all: 238062\n",
      "TEXTS\n",
      "min: 3 mean: 10.285232869610299 median: 9.0 max: 45 all: 238062\n",
      "---------- test ----------\n",
      "annotator head\n",
      "worker_id\n",
      "1751    24\n",
      "3502    24\n",
      "2463    24\n",
      "1788    24\n",
      "3003    24\n",
      "Name: comment, dtype: int64\n",
      "annotator tail\n",
      "worker_id\n",
      "357    374\n",
      "909    374\n",
      "353    374\n",
      "91     374\n",
      "130    374\n",
      "Name: comment, dtype: int64\n",
      "ANNOTATORS\n",
      "min: 24 mean: 113.91421568627452 median: 86.0 max: 374 all: 325339\n",
      "TEXTS\n",
      "min: 2 mean: 14.051699563771434 median: 10.0 max: 56 all: 325339\n",
      "---------- check 2 ----------\n",
      "sizes - train: (2856,) val: (2856,) test: (2856,)\n",
      "(0, 0) (0, 0) (0, 0)\n",
      "set()\n",
      "---------- clean 2 ----------\n",
      "(711584, 10) (238062, 10) (325339, 10)\n",
      "---------- check 3 ----------\n",
      "sizes - train: (2856,) val: (2856,) test: (2856,)\n",
      "(0, 0) (0, 0) (0, 0)\n",
      "set()\n"
     ]
    },
    {
     "data": {
      "image/png": "[encoded data removed]",
      "text/plain": [
       "<Figure size 640x480 with 1 Axes>"
      ]
     },
     "metadata": {},
     "output_type": "display_data"
    }
   ],
   "source": [
    "train_final, dev_final, test_final = analyze_annotations(train_final, dev_final, test_final, crop=False)"
   ]
  },
  {
   "cell_type": "code",
   "execution_count": 17,
   "id": "2c039745-222a-4513-bb5a-ac33af3b73d6",
   "metadata": {},
   "outputs": [],
   "source": [
    "# train_final.to_csv(train_path, index=False)\n",
    "# dev_final.to_csv(val_path, index=False)\n",
    "# test_final.to_csv(test_path, index=False)"
   ]
  }
 ],
 "metadata": {
  "kernelspec": {
   "display_name": "Python 3 (ipykernel)",
   "language": "python",
   "name": "python3"
  },
  "language_info": {
   "codemirror_mode": {
    "name": "ipython",
    "version": 3
   },
   "file_extension": ".py",
   "mimetype": "text/x-python",
   "name": "python",
   "nbconvert_exporter": "python",
   "pygments_lexer": "ipython3",
   "version": "3.10.13"
  }
 },
 "nbformat": 4,
 "nbformat_minor": 5
}
